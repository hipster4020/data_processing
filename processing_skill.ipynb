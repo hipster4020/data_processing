{
 "cells": [
  {
   "cell_type": "markdown",
   "id": "c110e6d1",
   "metadata": {},
   "source": [
    "# *data load*"
   ]
  },
  {
   "cell_type": "code",
   "execution_count": 1,
   "id": "a1ea7af4",
   "metadata": {},
   "outputs": [],
   "source": [
    "import pandas as pd"
   ]
  },
  {
   "cell_type": "code",
   "execution_count": 2,
   "id": "a56785b4",
   "metadata": {},
   "outputs": [],
   "source": [
    "import pickle"
   ]
  },
  {
   "cell_type": "code",
   "execution_count": 3,
   "id": "3576f5de",
   "metadata": {},
   "outputs": [],
   "source": [
    "with open('./data/sample.pickle', 'rb') as f:\n",
    "    df = pickle.load(f)"
   ]
  },
  {
   "cell_type": "code",
   "execution_count": 4,
   "id": "f5dbed93",
   "metadata": {},
   "outputs": [
    {
     "data": {
      "text/html": [
       "<div>\n",
       "<style scoped>\n",
       "    .dataframe tbody tr th:only-of-type {\n",
       "        vertical-align: middle;\n",
       "    }\n",
       "\n",
       "    .dataframe tbody tr th {\n",
       "        vertical-align: top;\n",
       "    }\n",
       "\n",
       "    .dataframe thead th {\n",
       "        text-align: right;\n",
       "    }\n",
       "</style>\n",
       "<table border=\"1\" class=\"dataframe\">\n",
       "  <thead>\n",
       "    <tr style=\"text-align: right;\">\n",
       "      <th></th>\n",
       "      <th>id</th>\n",
       "      <th>content</th>\n",
       "      <th>category_name_str</th>\n",
       "    </tr>\n",
       "  </thead>\n",
       "  <tbody>\n",
       "    <tr>\n",
       "      <th>0</th>\n",
       "      <td>0</td>\n",
       "      <td>김영환 전 더불어민주당 의원은 16일 문재인 정부의 탈원전 정책에 대해 과학적으로 ...</td>\n",
       "      <td>에너지</td>\n",
       "    </tr>\n",
       "    <tr>\n",
       "      <th>1</th>\n",
       "      <td>1</td>\n",
       "      <td>올해 2분기 주요 아티스트들의 대거 복귀를 앞두고 엔터주 주가가 꿈틀거리고 있다 앞...</td>\n",
       "      <td>미디어, 경제</td>\n",
       "    </tr>\n",
       "    <tr>\n",
       "      <th>2</th>\n",
       "      <td>2</td>\n",
       "      <td>더불어민주당 부동산특위는 오늘 국회에서 서울지역 구청장들과 간담회를 하고 부동산 현...</td>\n",
       "      <td>부동산</td>\n",
       "    </tr>\n",
       "    <tr>\n",
       "      <th>3</th>\n",
       "      <td>3</td>\n",
       "      <td>지난 12일 내년 대통령선거 출마를 공식선언한 양승조 충남지사가 16일부터 2박3일...</td>\n",
       "      <td>etc</td>\n",
       "    </tr>\n",
       "    <tr>\n",
       "      <th>4</th>\n",
       "      <td>4</td>\n",
       "      <td>서동균이 결혼한 가운데 박준형이 참석 인증샷을 공개했다박준형은 15일 자신의 인스타...</td>\n",
       "      <td>etc</td>\n",
       "    </tr>\n",
       "  </tbody>\n",
       "</table>\n",
       "</div>"
      ],
      "text/plain": [
       "  id                                            content category_name_str\n",
       "0  0  김영환 전 더불어민주당 의원은 16일 문재인 정부의 탈원전 정책에 대해 과학적으로 ...               에너지\n",
       "1  1  올해 2분기 주요 아티스트들의 대거 복귀를 앞두고 엔터주 주가가 꿈틀거리고 있다 앞...           미디어, 경제\n",
       "2  2  더불어민주당 부동산특위는 오늘 국회에서 서울지역 구청장들과 간담회를 하고 부동산 현...               부동산\n",
       "3  3  지난 12일 내년 대통령선거 출마를 공식선언한 양승조 충남지사가 16일부터 2박3일...               etc\n",
       "4  4  서동균이 결혼한 가운데 박준형이 참석 인증샷을 공개했다박준형은 15일 자신의 인스타...               etc"
      ]
     },
     "execution_count": 4,
     "metadata": {},
     "output_type": "execute_result"
    }
   ],
   "source": [
    "df.head()"
   ]
  },
  {
   "cell_type": "markdown",
   "id": "dbbc6d61",
   "metadata": {},
   "source": [
    "# *set 중복 제거*"
   ]
  },
  {
   "cell_type": "code",
   "execution_count": 5,
   "id": "037101f9",
   "metadata": {},
   "outputs": [],
   "source": [
    "category_list = list(set(df.category_name_str.values.tolist()))"
   ]
  },
  {
   "cell_type": "code",
   "execution_count": 6,
   "id": "58220b08",
   "metadata": {},
   "outputs": [
    {
     "data": {
      "text/plain": [
       "[' ',\n",
       " 'O2O, 이동수단',\n",
       " 'etc',\n",
       " '개발',\n",
       " '개발, 경제',\n",
       " '개발, 과학',\n",
       " '개발, 통신',\n",
       " '경제',\n",
       " '경제, 식품',\n",
       " '경제, 에너지']"
      ]
     },
     "execution_count": 6,
     "metadata": {},
     "output_type": "execute_result"
    }
   ],
   "source": [
    "category_list.sort()\n",
    "category_list[:10]"
   ]
  },
  {
   "cell_type": "markdown",
   "id": "48f6c910",
   "metadata": {},
   "source": [
    "# *특수문자 제거*"
   ]
  },
  {
   "cell_type": "code",
   "execution_count": 7,
   "id": "65d245d3",
   "metadata": {},
   "outputs": [],
   "source": [
    "import re"
   ]
  },
  {
   "cell_type": "code",
   "execution_count": 8,
   "id": "f862b4bc",
   "metadata": {},
   "outputs": [],
   "source": [
    "category_list = [re.sub(r'\\([^]]*\\)', '', category) for category in category_list if len(category) > 0]"
   ]
  },
  {
   "cell_type": "code",
   "execution_count": 9,
   "id": "d023e100",
   "metadata": {},
   "outputs": [
    {
     "data": {
      "text/plain": [
       "[' ',\n",
       " 'O2O, 이동수단',\n",
       " 'etc',\n",
       " '개발',\n",
       " '개발, 경제',\n",
       " '개발, 과학',\n",
       " '개발, 통신',\n",
       " '경제',\n",
       " '경제, 식품',\n",
       " '경제, 에너지']"
      ]
     },
     "execution_count": 9,
     "metadata": {},
     "output_type": "execute_result"
    }
   ],
   "source": [
    "category_list[:10]"
   ]
  },
  {
   "cell_type": "markdown",
   "id": "6f364c2d",
   "metadata": {},
   "source": [
    "# *빈칸 찾기*"
   ]
  },
  {
   "cell_type": "code",
   "execution_count": 11,
   "id": "5881dd67",
   "metadata": {},
   "outputs": [
    {
     "data": {
      "text/plain": [
       "0"
      ]
     },
     "execution_count": 11,
     "metadata": {},
     "output_type": "execute_result"
    }
   ],
   "source": [
    "# true, false\n",
    "# sum 갯수\n",
    "df.category_name_str.apply(lambda x: x.startswith(\" \")).sum()"
   ]
  },
  {
   "cell_type": "code",
   "execution_count": 12,
   "id": "684eb4ba",
   "metadata": {},
   "outputs": [
    {
     "data": {
      "text/html": [
       "<div>\n",
       "<style scoped>\n",
       "    .dataframe tbody tr th:only-of-type {\n",
       "        vertical-align: middle;\n",
       "    }\n",
       "\n",
       "    .dataframe tbody tr th {\n",
       "        vertical-align: top;\n",
       "    }\n",
       "\n",
       "    .dataframe thead th {\n",
       "        text-align: right;\n",
       "    }\n",
       "</style>\n",
       "<table border=\"1\" class=\"dataframe\">\n",
       "  <thead>\n",
       "    <tr style=\"text-align: right;\">\n",
       "      <th></th>\n",
       "      <th>id</th>\n",
       "      <th>content</th>\n",
       "      <th>category_name_str</th>\n",
       "    </tr>\n",
       "  </thead>\n",
       "  <tbody>\n",
       "  </tbody>\n",
       "</table>\n",
       "</div>"
      ],
      "text/plain": [
       "Empty DataFrame\n",
       "Columns: [id, content, category_name_str]\n",
       "Index: []"
      ]
     },
     "execution_count": 12,
     "metadata": {},
     "output_type": "execute_result"
    }
   ],
   "source": [
    "df[df.category_name_str.apply(lambda x: x.startswith(\" \"))]"
   ]
  },
  {
   "cell_type": "code",
   "execution_count": 13,
   "id": "ba424e74",
   "metadata": {},
   "outputs": [
    {
     "data": {
      "text/plain": [
       "(1000, 3)"
      ]
     },
     "execution_count": 13,
     "metadata": {},
     "output_type": "execute_result"
    }
   ],
   "source": [
    "df.shape"
   ]
  },
  {
   "cell_type": "code",
   "execution_count": 10,
   "id": "c418006f",
   "metadata": {},
   "outputs": [
    {
     "name": "stdout",
     "output_type": "stream",
     "text": [
      "Int64Index([1000], dtype='int64')\n"
     ]
    }
   ],
   "source": [
    "# 데이터 제거\n",
    "index = df[df.category_name_str.apply(lambda x: x.startswith(\" \"))].index\n",
    "print(index)\n",
    "df.drop(index, inplace=True)"
   ]
  },
  {
   "cell_type": "markdown",
   "id": "f4620666",
   "metadata": {},
   "source": [
    "# *중복 찾기*"
   ]
  },
  {
   "cell_type": "code",
   "execution_count": 17,
   "id": "39955562",
   "metadata": {},
   "outputs": [
    {
     "data": {
      "text/plain": [
       "0"
      ]
     },
     "execution_count": 17,
     "metadata": {},
     "output_type": "execute_result"
    }
   ],
   "source": [
    "df.duplicated().sum()"
   ]
  },
  {
   "cell_type": "code",
   "execution_count": null,
   "id": "dab6eabd",
   "metadata": {},
   "outputs": [],
   "source": [
    "df.drop_duplicates()"
   ]
  },
  {
   "cell_type": "code",
   "execution_count": 15,
   "id": "69dc39c9",
   "metadata": {},
   "outputs": [
    {
     "data": {
      "text/plain": [
       "(1001, 3)"
      ]
     },
     "execution_count": 15,
     "metadata": {},
     "output_type": "execute_result"
    }
   ],
   "source": [
    "df.shape"
   ]
  },
  {
   "cell_type": "markdown",
   "id": "bfcabf98",
   "metadata": {},
   "source": [
    "# *2차원 list -> 1차원 list*"
   ]
  },
  {
   "cell_type": "code",
   "execution_count": 10,
   "id": "1af2f1df",
   "metadata": {},
   "outputs": [],
   "source": [
    "test_list = []\n",
    "test_list.append(category_list)"
   ]
  },
  {
   "cell_type": "code",
   "execution_count": 12,
   "id": "8ed3c58f",
   "metadata": {},
   "outputs": [],
   "source": [
    "test_list = sum(test_list, [])"
   ]
  },
  {
   "cell_type": "code",
   "execution_count": 14,
   "id": "1c2dd62a",
   "metadata": {},
   "outputs": [
    {
     "data": {
      "text/plain": [
       "[' ',\n",
       " 'O2O, 이동수단',\n",
       " 'etc',\n",
       " '개발',\n",
       " '개발, 경제',\n",
       " '개발, 과학',\n",
       " '개발, 통신',\n",
       " '경제',\n",
       " '경제, 식품',\n",
       " '경제, 에너지']"
      ]
     },
     "execution_count": 14,
     "metadata": {},
     "output_type": "execute_result"
    }
   ],
   "source": [
    "test_list[:10]"
   ]
  },
  {
   "cell_type": "markdown",
   "id": "bba7bac2",
   "metadata": {},
   "source": [
    "# *조건부 삭제*"
   ]
  },
  {
   "cell_type": "code",
   "execution_count": null,
   "id": "a8835ad4",
   "metadata": {},
   "outputs": [],
   "source": [
    "# 길이 50 이하 제거\n",
    "df = df[df.content.apply(lambda x: len(str(x))>=50)]"
   ]
  },
  {
   "cell_type": "markdown",
   "id": "db3932d2",
   "metadata": {},
   "source": [
    "# *replace*"
   ]
  },
  {
   "cell_type": "code",
   "execution_count": 5,
   "id": "8ed4d41a",
   "metadata": {},
   "outputs": [
    {
     "data": {
      "text/html": [
       "<div>\n",
       "<style scoped>\n",
       "    .dataframe tbody tr th:only-of-type {\n",
       "        vertical-align: middle;\n",
       "    }\n",
       "\n",
       "    .dataframe tbody tr th {\n",
       "        vertical-align: top;\n",
       "    }\n",
       "\n",
       "    .dataframe thead th {\n",
       "        text-align: right;\n",
       "    }\n",
       "</style>\n",
       "<table border=\"1\" class=\"dataframe\">\n",
       "  <thead>\n",
       "    <tr style=\"text-align: right;\">\n",
       "      <th></th>\n",
       "      <th>id</th>\n",
       "      <th>content</th>\n",
       "      <th>category_name_str</th>\n",
       "    </tr>\n",
       "  </thead>\n",
       "  <tbody>\n",
       "    <tr>\n",
       "      <th>0</th>\n",
       "      <td>0</td>\n",
       "      <td>김영환 전 더불어민주당 의원은 16일 문재인 정부의 탈원전 정책에 대해 과학적으로 ...</td>\n",
       "      <td>에너지</td>\n",
       "    </tr>\n",
       "    <tr>\n",
       "      <th>1</th>\n",
       "      <td>1</td>\n",
       "      <td>올해 2분기 주요 아티스트들의 대거 복귀를 앞두고 엔터주 주가가 꿈틀거리고 있다 앞...</td>\n",
       "      <td>미디어, 경제</td>\n",
       "    </tr>\n",
       "    <tr>\n",
       "      <th>2</th>\n",
       "      <td>2</td>\n",
       "      <td>더불어민주당 부동산특위는 오늘 국회에서 서울지역 구청장들과 간담회를 하고 부동산 현...</td>\n",
       "      <td>부동산</td>\n",
       "    </tr>\n",
       "    <tr>\n",
       "      <th>3</th>\n",
       "      <td>3</td>\n",
       "      <td>지난 12일 내년 대통령선거 출마를 공식선언한 양승조 충남지사가 16일부터 2박3일...</td>\n",
       "      <td>etc</td>\n",
       "    </tr>\n",
       "    <tr>\n",
       "      <th>4</th>\n",
       "      <td>4</td>\n",
       "      <td>서동균이 결혼한 가운데 박준형이 참석 인증샷을 공개했다박준형은 15일 자신의 인스타...</td>\n",
       "      <td>etc</td>\n",
       "    </tr>\n",
       "  </tbody>\n",
       "</table>\n",
       "</div>"
      ],
      "text/plain": [
       "  id                                            content category_name_str\n",
       "0  0  김영환 전 더불어민주당 의원은 16일 문재인 정부의 탈원전 정책에 대해 과학적으로 ...               에너지\n",
       "1  1  올해 2분기 주요 아티스트들의 대거 복귀를 앞두고 엔터주 주가가 꿈틀거리고 있다 앞...           미디어, 경제\n",
       "2  2  더불어민주당 부동산특위는 오늘 국회에서 서울지역 구청장들과 간담회를 하고 부동산 현...               부동산\n",
       "3  3  지난 12일 내년 대통령선거 출마를 공식선언한 양승조 충남지사가 16일부터 2박3일...               etc\n",
       "4  4  서동균이 결혼한 가운데 박준형이 참석 인증샷을 공개했다박준형은 15일 자신의 인스타...               etc"
      ]
     },
     "execution_count": 5,
     "metadata": {},
     "output_type": "execute_result"
    }
   ],
   "source": [
    "df.head()"
   ]
  },
  {
   "cell_type": "code",
   "execution_count": 6,
   "id": "845fcb43",
   "metadata": {},
   "outputs": [],
   "source": [
    "df['category'] = df.category_name_str.replace('etc', 'etcc')"
   ]
  },
  {
   "cell_type": "code",
   "execution_count": 7,
   "id": "035bdcac",
   "metadata": {},
   "outputs": [
    {
     "data": {
      "text/html": [
       "<div>\n",
       "<style scoped>\n",
       "    .dataframe tbody tr th:only-of-type {\n",
       "        vertical-align: middle;\n",
       "    }\n",
       "\n",
       "    .dataframe tbody tr th {\n",
       "        vertical-align: top;\n",
       "    }\n",
       "\n",
       "    .dataframe thead th {\n",
       "        text-align: right;\n",
       "    }\n",
       "</style>\n",
       "<table border=\"1\" class=\"dataframe\">\n",
       "  <thead>\n",
       "    <tr style=\"text-align: right;\">\n",
       "      <th></th>\n",
       "      <th>id</th>\n",
       "      <th>content</th>\n",
       "      <th>category_name_str</th>\n",
       "      <th>category</th>\n",
       "    </tr>\n",
       "  </thead>\n",
       "  <tbody>\n",
       "    <tr>\n",
       "      <th>0</th>\n",
       "      <td>0</td>\n",
       "      <td>김영환 전 더불어민주당 의원은 16일 문재인 정부의 탈원전 정책에 대해 과학적으로 ...</td>\n",
       "      <td>에너지</td>\n",
       "      <td>에너지</td>\n",
       "    </tr>\n",
       "    <tr>\n",
       "      <th>1</th>\n",
       "      <td>1</td>\n",
       "      <td>올해 2분기 주요 아티스트들의 대거 복귀를 앞두고 엔터주 주가가 꿈틀거리고 있다 앞...</td>\n",
       "      <td>미디어, 경제</td>\n",
       "      <td>미디어, 경제</td>\n",
       "    </tr>\n",
       "    <tr>\n",
       "      <th>2</th>\n",
       "      <td>2</td>\n",
       "      <td>더불어민주당 부동산특위는 오늘 국회에서 서울지역 구청장들과 간담회를 하고 부동산 현...</td>\n",
       "      <td>부동산</td>\n",
       "      <td>부동산</td>\n",
       "    </tr>\n",
       "    <tr>\n",
       "      <th>3</th>\n",
       "      <td>3</td>\n",
       "      <td>지난 12일 내년 대통령선거 출마를 공식선언한 양승조 충남지사가 16일부터 2박3일...</td>\n",
       "      <td>etc</td>\n",
       "      <td>etcc</td>\n",
       "    </tr>\n",
       "    <tr>\n",
       "      <th>4</th>\n",
       "      <td>4</td>\n",
       "      <td>서동균이 결혼한 가운데 박준형이 참석 인증샷을 공개했다박준형은 15일 자신의 인스타...</td>\n",
       "      <td>etc</td>\n",
       "      <td>etcc</td>\n",
       "    </tr>\n",
       "  </tbody>\n",
       "</table>\n",
       "</div>"
      ],
      "text/plain": [
       "  id                                            content category_name_str  \\\n",
       "0  0  김영환 전 더불어민주당 의원은 16일 문재인 정부의 탈원전 정책에 대해 과학적으로 ...               에너지   \n",
       "1  1  올해 2분기 주요 아티스트들의 대거 복귀를 앞두고 엔터주 주가가 꿈틀거리고 있다 앞...           미디어, 경제   \n",
       "2  2  더불어민주당 부동산특위는 오늘 국회에서 서울지역 구청장들과 간담회를 하고 부동산 현...               부동산   \n",
       "3  3  지난 12일 내년 대통령선거 출마를 공식선언한 양승조 충남지사가 16일부터 2박3일...               etc   \n",
       "4  4  서동균이 결혼한 가운데 박준형이 참석 인증샷을 공개했다박준형은 15일 자신의 인스타...               etc   \n",
       "\n",
       "  category  \n",
       "0      에너지  \n",
       "1  미디어, 경제  \n",
       "2      부동산  \n",
       "3     etcc  \n",
       "4     etcc  "
      ]
     },
     "execution_count": 7,
     "metadata": {},
     "output_type": "execute_result"
    }
   ],
   "source": [
    "df.head()"
   ]
  },
  {
   "cell_type": "code",
   "execution_count": 18,
   "id": "4f180226",
   "metadata": {},
   "outputs": [],
   "source": [
    "df['catogory2'] = df.category_name_str.apply(lambda x: x.replace(', ', '; '))"
   ]
  },
  {
   "cell_type": "code",
   "execution_count": 19,
   "id": "35845c1d",
   "metadata": {},
   "outputs": [
    {
     "data": {
      "text/html": [
       "<div>\n",
       "<style scoped>\n",
       "    .dataframe tbody tr th:only-of-type {\n",
       "        vertical-align: middle;\n",
       "    }\n",
       "\n",
       "    .dataframe tbody tr th {\n",
       "        vertical-align: top;\n",
       "    }\n",
       "\n",
       "    .dataframe thead th {\n",
       "        text-align: right;\n",
       "    }\n",
       "</style>\n",
       "<table border=\"1\" class=\"dataframe\">\n",
       "  <thead>\n",
       "    <tr style=\"text-align: right;\">\n",
       "      <th></th>\n",
       "      <th>id</th>\n",
       "      <th>content</th>\n",
       "      <th>category_name_str</th>\n",
       "      <th>category</th>\n",
       "      <th>catogory2</th>\n",
       "    </tr>\n",
       "  </thead>\n",
       "  <tbody>\n",
       "    <tr>\n",
       "      <th>0</th>\n",
       "      <td>0</td>\n",
       "      <td>김영환 전 더불어민주당 의원은 16일 문재인 정부의 탈원전 정책에 대해 과학적으로 ...</td>\n",
       "      <td>에너지</td>\n",
       "      <td>에너지</td>\n",
       "      <td>에너지</td>\n",
       "    </tr>\n",
       "    <tr>\n",
       "      <th>1</th>\n",
       "      <td>1</td>\n",
       "      <td>올해 2분기 주요 아티스트들의 대거 복귀를 앞두고 엔터주 주가가 꿈틀거리고 있다 앞...</td>\n",
       "      <td>미디어, 경제</td>\n",
       "      <td>미디어, 경제</td>\n",
       "      <td>미디어; 경제</td>\n",
       "    </tr>\n",
       "    <tr>\n",
       "      <th>2</th>\n",
       "      <td>2</td>\n",
       "      <td>더불어민주당 부동산특위는 오늘 국회에서 서울지역 구청장들과 간담회를 하고 부동산 현...</td>\n",
       "      <td>부동산</td>\n",
       "      <td>부동산</td>\n",
       "      <td>부동산</td>\n",
       "    </tr>\n",
       "    <tr>\n",
       "      <th>3</th>\n",
       "      <td>3</td>\n",
       "      <td>지난 12일 내년 대통령선거 출마를 공식선언한 양승조 충남지사가 16일부터 2박3일...</td>\n",
       "      <td>etc</td>\n",
       "      <td>etcc</td>\n",
       "      <td>etc</td>\n",
       "    </tr>\n",
       "    <tr>\n",
       "      <th>4</th>\n",
       "      <td>4</td>\n",
       "      <td>서동균이 결혼한 가운데 박준형이 참석 인증샷을 공개했다박준형은 15일 자신의 인스타...</td>\n",
       "      <td>etc</td>\n",
       "      <td>etcc</td>\n",
       "      <td>etc</td>\n",
       "    </tr>\n",
       "  </tbody>\n",
       "</table>\n",
       "</div>"
      ],
      "text/plain": [
       "  id                                            content category_name_str  \\\n",
       "0  0  김영환 전 더불어민주당 의원은 16일 문재인 정부의 탈원전 정책에 대해 과학적으로 ...               에너지   \n",
       "1  1  올해 2분기 주요 아티스트들의 대거 복귀를 앞두고 엔터주 주가가 꿈틀거리고 있다 앞...           미디어, 경제   \n",
       "2  2  더불어민주당 부동산특위는 오늘 국회에서 서울지역 구청장들과 간담회를 하고 부동산 현...               부동산   \n",
       "3  3  지난 12일 내년 대통령선거 출마를 공식선언한 양승조 충남지사가 16일부터 2박3일...               etc   \n",
       "4  4  서동균이 결혼한 가운데 박준형이 참석 인증샷을 공개했다박준형은 15일 자신의 인스타...               etc   \n",
       "\n",
       "  category catogory2  \n",
       "0      에너지       에너지  \n",
       "1  미디어, 경제   미디어; 경제  \n",
       "2      부동산       부동산  \n",
       "3     etcc       etc  \n",
       "4     etcc       etc  "
      ]
     },
     "execution_count": 19,
     "metadata": {},
     "output_type": "execute_result"
    }
   ],
   "source": [
    "df.head()"
   ]
  },
  {
   "cell_type": "markdown",
   "id": "beabb10f",
   "metadata": {},
   "source": [
    "# *data merge*"
   ]
  },
  {
   "cell_type": "code",
   "execution_count": 8,
   "id": "b0fcd275",
   "metadata": {},
   "outputs": [
    {
     "data": {
      "text/html": [
       "<div>\n",
       "<style scoped>\n",
       "    .dataframe tbody tr th:only-of-type {\n",
       "        vertical-align: middle;\n",
       "    }\n",
       "\n",
       "    .dataframe tbody tr th {\n",
       "        vertical-align: top;\n",
       "    }\n",
       "\n",
       "    .dataframe thead th {\n",
       "        text-align: right;\n",
       "    }\n",
       "</style>\n",
       "<table border=\"1\" class=\"dataframe\">\n",
       "  <thead>\n",
       "    <tr style=\"text-align: right;\">\n",
       "      <th></th>\n",
       "      <th>id</th>\n",
       "      <th>content</th>\n",
       "      <th>category_name_str</th>\n",
       "      <th>category</th>\n",
       "    </tr>\n",
       "  </thead>\n",
       "  <tbody>\n",
       "    <tr>\n",
       "      <th>0</th>\n",
       "      <td>0</td>\n",
       "      <td>김영환 전 더불어민주당 의원은 16일 문재인 정부의 탈원전 정책에 대해 과학적으로 ...</td>\n",
       "      <td>에너지</td>\n",
       "      <td>에너지</td>\n",
       "    </tr>\n",
       "    <tr>\n",
       "      <th>1</th>\n",
       "      <td>1</td>\n",
       "      <td>올해 2분기 주요 아티스트들의 대거 복귀를 앞두고 엔터주 주가가 꿈틀거리고 있다 앞...</td>\n",
       "      <td>미디어, 경제</td>\n",
       "      <td>미디어; 경제</td>\n",
       "    </tr>\n",
       "    <tr>\n",
       "      <th>2</th>\n",
       "      <td>2</td>\n",
       "      <td>더불어민주당 부동산특위는 오늘 국회에서 서울지역 구청장들과 간담회를 하고 부동산 현...</td>\n",
       "      <td>부동산</td>\n",
       "      <td>부동산</td>\n",
       "    </tr>\n",
       "    <tr>\n",
       "      <th>3</th>\n",
       "      <td>3</td>\n",
       "      <td>지난 12일 내년 대통령선거 출마를 공식선언한 양승조 충남지사가 16일부터 2박3일...</td>\n",
       "      <td>etc</td>\n",
       "      <td>etc</td>\n",
       "    </tr>\n",
       "    <tr>\n",
       "      <th>4</th>\n",
       "      <td>4</td>\n",
       "      <td>서동균이 결혼한 가운데 박준형이 참석 인증샷을 공개했다박준형은 15일 자신의 인스타...</td>\n",
       "      <td>etc</td>\n",
       "      <td>etc</td>\n",
       "    </tr>\n",
       "  </tbody>\n",
       "</table>\n",
       "</div>"
      ],
      "text/plain": [
       "  id                                            content category_name_str  \\\n",
       "0  0  김영환 전 더불어민주당 의원은 16일 문재인 정부의 탈원전 정책에 대해 과학적으로 ...               에너지   \n",
       "1  1  올해 2분기 주요 아티스트들의 대거 복귀를 앞두고 엔터주 주가가 꿈틀거리고 있다 앞...           미디어, 경제   \n",
       "2  2  더불어민주당 부동산특위는 오늘 국회에서 서울지역 구청장들과 간담회를 하고 부동산 현...               부동산   \n",
       "3  3  지난 12일 내년 대통령선거 출마를 공식선언한 양승조 충남지사가 16일부터 2박3일...               etc   \n",
       "4  4  서동균이 결혼한 가운데 박준형이 참석 인증샷을 공개했다박준형은 15일 자신의 인스타...               etc   \n",
       "\n",
       "  category  \n",
       "0      에너지  \n",
       "1  미디어; 경제  \n",
       "2      부동산  \n",
       "3      etc  \n",
       "4      etc  "
      ]
     },
     "execution_count": 8,
     "metadata": {},
     "output_type": "execute_result"
    }
   ],
   "source": [
    "df.head()"
   ]
  },
  {
   "cell_type": "code",
   "execution_count": 9,
   "id": "4e8388a2",
   "metadata": {},
   "outputs": [],
   "source": [
    "df2 = df[['id', 'category_name_str']]\n",
    "df2 = pd.DataFrame(df2)"
   ]
  },
  {
   "cell_type": "code",
   "execution_count": 10,
   "id": "ca2839dd",
   "metadata": {},
   "outputs": [],
   "source": [
    "df = df[['id', 'content']]"
   ]
  },
  {
   "cell_type": "code",
   "execution_count": 11,
   "id": "66249c83",
   "metadata": {},
   "outputs": [
    {
     "data": {
      "text/html": [
       "<div>\n",
       "<style scoped>\n",
       "    .dataframe tbody tr th:only-of-type {\n",
       "        vertical-align: middle;\n",
       "    }\n",
       "\n",
       "    .dataframe tbody tr th {\n",
       "        vertical-align: top;\n",
       "    }\n",
       "\n",
       "    .dataframe thead th {\n",
       "        text-align: right;\n",
       "    }\n",
       "</style>\n",
       "<table border=\"1\" class=\"dataframe\">\n",
       "  <thead>\n",
       "    <tr style=\"text-align: right;\">\n",
       "      <th></th>\n",
       "      <th>id</th>\n",
       "      <th>content</th>\n",
       "    </tr>\n",
       "  </thead>\n",
       "  <tbody>\n",
       "    <tr>\n",
       "      <th>0</th>\n",
       "      <td>0</td>\n",
       "      <td>김영환 전 더불어민주당 의원은 16일 문재인 정부의 탈원전 정책에 대해 과학적으로 ...</td>\n",
       "    </tr>\n",
       "    <tr>\n",
       "      <th>1</th>\n",
       "      <td>1</td>\n",
       "      <td>올해 2분기 주요 아티스트들의 대거 복귀를 앞두고 엔터주 주가가 꿈틀거리고 있다 앞...</td>\n",
       "    </tr>\n",
       "    <tr>\n",
       "      <th>2</th>\n",
       "      <td>2</td>\n",
       "      <td>더불어민주당 부동산특위는 오늘 국회에서 서울지역 구청장들과 간담회를 하고 부동산 현...</td>\n",
       "    </tr>\n",
       "    <tr>\n",
       "      <th>3</th>\n",
       "      <td>3</td>\n",
       "      <td>지난 12일 내년 대통령선거 출마를 공식선언한 양승조 충남지사가 16일부터 2박3일...</td>\n",
       "    </tr>\n",
       "    <tr>\n",
       "      <th>4</th>\n",
       "      <td>4</td>\n",
       "      <td>서동균이 결혼한 가운데 박준형이 참석 인증샷을 공개했다박준형은 15일 자신의 인스타...</td>\n",
       "    </tr>\n",
       "  </tbody>\n",
       "</table>\n",
       "</div>"
      ],
      "text/plain": [
       "  id                                            content\n",
       "0  0  김영환 전 더불어민주당 의원은 16일 문재인 정부의 탈원전 정책에 대해 과학적으로 ...\n",
       "1  1  올해 2분기 주요 아티스트들의 대거 복귀를 앞두고 엔터주 주가가 꿈틀거리고 있다 앞...\n",
       "2  2  더불어민주당 부동산특위는 오늘 국회에서 서울지역 구청장들과 간담회를 하고 부동산 현...\n",
       "3  3  지난 12일 내년 대통령선거 출마를 공식선언한 양승조 충남지사가 16일부터 2박3일...\n",
       "4  4  서동균이 결혼한 가운데 박준형이 참석 인증샷을 공개했다박준형은 15일 자신의 인스타..."
      ]
     },
     "execution_count": 11,
     "metadata": {},
     "output_type": "execute_result"
    }
   ],
   "source": [
    "df.head()"
   ]
  },
  {
   "cell_type": "code",
   "execution_count": 12,
   "id": "ead49029",
   "metadata": {},
   "outputs": [
    {
     "data": {
      "text/html": [
       "<div>\n",
       "<style scoped>\n",
       "    .dataframe tbody tr th:only-of-type {\n",
       "        vertical-align: middle;\n",
       "    }\n",
       "\n",
       "    .dataframe tbody tr th {\n",
       "        vertical-align: top;\n",
       "    }\n",
       "\n",
       "    .dataframe thead th {\n",
       "        text-align: right;\n",
       "    }\n",
       "</style>\n",
       "<table border=\"1\" class=\"dataframe\">\n",
       "  <thead>\n",
       "    <tr style=\"text-align: right;\">\n",
       "      <th></th>\n",
       "      <th>id</th>\n",
       "      <th>category_name_str</th>\n",
       "    </tr>\n",
       "  </thead>\n",
       "  <tbody>\n",
       "    <tr>\n",
       "      <th>0</th>\n",
       "      <td>0</td>\n",
       "      <td>에너지</td>\n",
       "    </tr>\n",
       "    <tr>\n",
       "      <th>1</th>\n",
       "      <td>1</td>\n",
       "      <td>미디어, 경제</td>\n",
       "    </tr>\n",
       "    <tr>\n",
       "      <th>2</th>\n",
       "      <td>2</td>\n",
       "      <td>부동산</td>\n",
       "    </tr>\n",
       "    <tr>\n",
       "      <th>3</th>\n",
       "      <td>3</td>\n",
       "      <td>etc</td>\n",
       "    </tr>\n",
       "    <tr>\n",
       "      <th>4</th>\n",
       "      <td>4</td>\n",
       "      <td>etc</td>\n",
       "    </tr>\n",
       "  </tbody>\n",
       "</table>\n",
       "</div>"
      ],
      "text/plain": [
       "  id category_name_str\n",
       "0  0               에너지\n",
       "1  1           미디어, 경제\n",
       "2  2               부동산\n",
       "3  3               etc\n",
       "4  4               etc"
      ]
     },
     "execution_count": 12,
     "metadata": {},
     "output_type": "execute_result"
    }
   ],
   "source": [
    "df2.head()"
   ]
  },
  {
   "cell_type": "code",
   "execution_count": 13,
   "id": "0036d3c4",
   "metadata": {},
   "outputs": [],
   "source": [
    "df3 = pd.concat([df, df2])"
   ]
  },
  {
   "cell_type": "code",
   "execution_count": 14,
   "id": "68fb705d",
   "metadata": {},
   "outputs": [
    {
     "data": {
      "text/html": [
       "<div>\n",
       "<style scoped>\n",
       "    .dataframe tbody tr th:only-of-type {\n",
       "        vertical-align: middle;\n",
       "    }\n",
       "\n",
       "    .dataframe tbody tr th {\n",
       "        vertical-align: top;\n",
       "    }\n",
       "\n",
       "    .dataframe thead th {\n",
       "        text-align: right;\n",
       "    }\n",
       "</style>\n",
       "<table border=\"1\" class=\"dataframe\">\n",
       "  <thead>\n",
       "    <tr style=\"text-align: right;\">\n",
       "      <th></th>\n",
       "      <th>id</th>\n",
       "      <th>content</th>\n",
       "      <th>category_name_str</th>\n",
       "    </tr>\n",
       "  </thead>\n",
       "  <tbody>\n",
       "    <tr>\n",
       "      <th>0</th>\n",
       "      <td>0</td>\n",
       "      <td>김영환 전 더불어민주당 의원은 16일 문재인 정부의 탈원전 정책에 대해 과학적으로 ...</td>\n",
       "      <td>NaN</td>\n",
       "    </tr>\n",
       "    <tr>\n",
       "      <th>1</th>\n",
       "      <td>1</td>\n",
       "      <td>올해 2분기 주요 아티스트들의 대거 복귀를 앞두고 엔터주 주가가 꿈틀거리고 있다 앞...</td>\n",
       "      <td>NaN</td>\n",
       "    </tr>\n",
       "    <tr>\n",
       "      <th>2</th>\n",
       "      <td>2</td>\n",
       "      <td>더불어민주당 부동산특위는 오늘 국회에서 서울지역 구청장들과 간담회를 하고 부동산 현...</td>\n",
       "      <td>NaN</td>\n",
       "    </tr>\n",
       "    <tr>\n",
       "      <th>3</th>\n",
       "      <td>3</td>\n",
       "      <td>지난 12일 내년 대통령선거 출마를 공식선언한 양승조 충남지사가 16일부터 2박3일...</td>\n",
       "      <td>NaN</td>\n",
       "    </tr>\n",
       "    <tr>\n",
       "      <th>4</th>\n",
       "      <td>4</td>\n",
       "      <td>서동균이 결혼한 가운데 박준형이 참석 인증샷을 공개했다박준형은 15일 자신의 인스타...</td>\n",
       "      <td>NaN</td>\n",
       "    </tr>\n",
       "  </tbody>\n",
       "</table>\n",
       "</div>"
      ],
      "text/plain": [
       "  id                                            content category_name_str\n",
       "0  0  김영환 전 더불어민주당 의원은 16일 문재인 정부의 탈원전 정책에 대해 과학적으로 ...               NaN\n",
       "1  1  올해 2분기 주요 아티스트들의 대거 복귀를 앞두고 엔터주 주가가 꿈틀거리고 있다 앞...               NaN\n",
       "2  2  더불어민주당 부동산특위는 오늘 국회에서 서울지역 구청장들과 간담회를 하고 부동산 현...               NaN\n",
       "3  3  지난 12일 내년 대통령선거 출마를 공식선언한 양승조 충남지사가 16일부터 2박3일...               NaN\n",
       "4  4  서동균이 결혼한 가운데 박준형이 참석 인증샷을 공개했다박준형은 15일 자신의 인스타...               NaN"
      ]
     },
     "execution_count": 14,
     "metadata": {},
     "output_type": "execute_result"
    }
   ],
   "source": [
    "df3.head()"
   ]
  },
  {
   "cell_type": "markdown",
   "id": "c76b805b",
   "metadata": {},
   "source": [
    "# *swifter*"
   ]
  },
  {
   "cell_type": "markdown",
   "id": "e89a32af",
   "metadata": {},
   "source": [
    "##### *A package which efficiently applies any function to a pandas dataframe or series in the fastest available manner*"
   ]
  },
  {
   "cell_type": "code",
   "execution_count": 5,
   "id": "a78d5d2d",
   "metadata": {},
   "outputs": [],
   "source": [
    "import swifter"
   ]
  },
  {
   "cell_type": "code",
   "execution_count": 6,
   "id": "1ba38085",
   "metadata": {},
   "outputs": [
    {
     "data": {
      "application/vnd.jupyter.widget-view+json": {
       "model_id": "e6ed67b392614697ad6ed557bd203268",
       "version_major": 2,
       "version_minor": 0
      },
      "text/plain": [
       "Pandas Apply:   0%|          | 0/1001 [00:00<?, ?it/s]"
      ]
     },
     "metadata": {},
     "output_type": "display_data"
    }
   ],
   "source": [
    "df['category'] = df.category_name_str.swifter.apply(lambda x: x.replace(', ', '; '))"
   ]
  },
  {
   "cell_type": "code",
   "execution_count": 7,
   "id": "e58c114d",
   "metadata": {},
   "outputs": [
    {
     "data": {
      "text/html": [
       "<div>\n",
       "<style scoped>\n",
       "    .dataframe tbody tr th:only-of-type {\n",
       "        vertical-align: middle;\n",
       "    }\n",
       "\n",
       "    .dataframe tbody tr th {\n",
       "        vertical-align: top;\n",
       "    }\n",
       "\n",
       "    .dataframe thead th {\n",
       "        text-align: right;\n",
       "    }\n",
       "</style>\n",
       "<table border=\"1\" class=\"dataframe\">\n",
       "  <thead>\n",
       "    <tr style=\"text-align: right;\">\n",
       "      <th></th>\n",
       "      <th>id</th>\n",
       "      <th>content</th>\n",
       "      <th>category_name_str</th>\n",
       "      <th>category</th>\n",
       "    </tr>\n",
       "  </thead>\n",
       "  <tbody>\n",
       "    <tr>\n",
       "      <th>0</th>\n",
       "      <td>0</td>\n",
       "      <td>김영환 전 더불어민주당 의원은 16일 문재인 정부의 탈원전 정책에 대해 과학적으로 ...</td>\n",
       "      <td>에너지</td>\n",
       "      <td>에너지</td>\n",
       "    </tr>\n",
       "    <tr>\n",
       "      <th>1</th>\n",
       "      <td>1</td>\n",
       "      <td>올해 2분기 주요 아티스트들의 대거 복귀를 앞두고 엔터주 주가가 꿈틀거리고 있다 앞...</td>\n",
       "      <td>미디어, 경제</td>\n",
       "      <td>미디어; 경제</td>\n",
       "    </tr>\n",
       "    <tr>\n",
       "      <th>2</th>\n",
       "      <td>2</td>\n",
       "      <td>더불어민주당 부동산특위는 오늘 국회에서 서울지역 구청장들과 간담회를 하고 부동산 현...</td>\n",
       "      <td>부동산</td>\n",
       "      <td>부동산</td>\n",
       "    </tr>\n",
       "    <tr>\n",
       "      <th>3</th>\n",
       "      <td>3</td>\n",
       "      <td>지난 12일 내년 대통령선거 출마를 공식선언한 양승조 충남지사가 16일부터 2박3일...</td>\n",
       "      <td>etc</td>\n",
       "      <td>etc</td>\n",
       "    </tr>\n",
       "    <tr>\n",
       "      <th>4</th>\n",
       "      <td>4</td>\n",
       "      <td>서동균이 결혼한 가운데 박준형이 참석 인증샷을 공개했다박준형은 15일 자신의 인스타...</td>\n",
       "      <td>etc</td>\n",
       "      <td>etc</td>\n",
       "    </tr>\n",
       "  </tbody>\n",
       "</table>\n",
       "</div>"
      ],
      "text/plain": [
       "  id                                            content category_name_str  \\\n",
       "0  0  김영환 전 더불어민주당 의원은 16일 문재인 정부의 탈원전 정책에 대해 과학적으로 ...               에너지   \n",
       "1  1  올해 2분기 주요 아티스트들의 대거 복귀를 앞두고 엔터주 주가가 꿈틀거리고 있다 앞...           미디어, 경제   \n",
       "2  2  더불어민주당 부동산특위는 오늘 국회에서 서울지역 구청장들과 간담회를 하고 부동산 현...               부동산   \n",
       "3  3  지난 12일 내년 대통령선거 출마를 공식선언한 양승조 충남지사가 16일부터 2박3일...               etc   \n",
       "4  4  서동균이 결혼한 가운데 박준형이 참석 인증샷을 공개했다박준형은 15일 자신의 인스타...               etc   \n",
       "\n",
       "  category  \n",
       "0      에너지  \n",
       "1  미디어; 경제  \n",
       "2      부동산  \n",
       "3      etc  \n",
       "4      etc  "
      ]
     },
     "execution_count": 7,
     "metadata": {},
     "output_type": "execute_result"
    }
   ],
   "source": [
    "df.head()"
   ]
  },
  {
   "cell_type": "code",
   "execution_count": null,
   "id": "25414294",
   "metadata": {},
   "outputs": [],
   "source": []
  }
 ],
 "metadata": {
  "kernelspec": {
   "display_name": "Python 3",
   "language": "python",
   "name": "python3"
  },
  "language_info": {
   "codemirror_mode": {
    "name": "ipython",
    "version": 3
   },
   "file_extension": ".py",
   "mimetype": "text/x-python",
   "name": "python",
   "nbconvert_exporter": "python",
   "pygments_lexer": "ipython3",
   "version": "3.8.10"
  }
 },
 "nbformat": 4,
 "nbformat_minor": 5
}
