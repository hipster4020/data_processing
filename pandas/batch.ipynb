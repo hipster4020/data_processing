{
 "cells": [
  {
   "cell_type": "markdown",
   "id": "22917890",
   "metadata": {},
   "source": [
    "### *batch 단위 iterable generator*"
   ]
  },
  {
   "cell_type": "markdown",
   "id": "8270a2ac",
   "metadata": {},
   "source": [
    "##### *Generator*\n",
    "###### *iterator를 생성해주는 함수*\n",
    "###### *함수 안에 yield 키워드를 사용함.*"
   ]
  },
  {
   "cell_type": "markdown",
   "id": "19647ff4",
   "metadata": {},
   "source": [
    "# "
   ]
  },
  {
   "cell_type": "markdown",
   "id": "29863eea",
   "metadata": {},
   "source": [
    "# *data load*"
   ]
  },
  {
   "cell_type": "code",
   "execution_count": 1,
   "id": "61640a8e",
   "metadata": {},
   "outputs": [],
   "source": [
    "import pandas as pd\n",
    "import pickle"
   ]
  },
  {
   "cell_type": "code",
   "execution_count": 9,
   "id": "fc72bfbd",
   "metadata": {},
   "outputs": [],
   "source": [
    "df = pd.read_csv('../../data/news_sentiment.csv')\n",
    "df = df[['content']]"
   ]
  },
  {
   "cell_type": "code",
   "execution_count": 10,
   "id": "879d2dbf",
   "metadata": {},
   "outputs": [
    {
     "data": {
      "text/html": [
       "<div>\n",
       "<style scoped>\n",
       "    .dataframe tbody tr th:only-of-type {\n",
       "        vertical-align: middle;\n",
       "    }\n",
       "\n",
       "    .dataframe tbody tr th {\n",
       "        vertical-align: top;\n",
       "    }\n",
       "\n",
       "    .dataframe thead th {\n",
       "        text-align: right;\n",
       "    }\n",
       "</style>\n",
       "<table border=\"1\" class=\"dataframe\">\n",
       "  <thead>\n",
       "    <tr style=\"text-align: right;\">\n",
       "      <th></th>\n",
       "      <th>content</th>\n",
       "    </tr>\n",
       "  </thead>\n",
       "  <tbody>\n",
       "    <tr>\n",
       "      <th>0</th>\n",
       "      <td>G7 원전사고 국경 넘어 민간인에 방사성 물질 노출 위험 무력분쟁 핵시설 파손으로 ...</td>\n",
       "    </tr>\n",
       "    <tr>\n",
       "      <th>1</th>\n",
       "      <td>에 꽂힌 핀다   렌트리스 이어 오토론까지 보폭 확대 핀다 정상연 수석매니저 인터뷰...</td>\n",
       "    </tr>\n",
       "    <tr>\n",
       "      <th>2</th>\n",
       "      <td>3000명 회원에게 제각기 다른 3000개 앱이 되겠다여성 패션앱 1위 에이블리의 ...</td>\n",
       "    </tr>\n",
       "    <tr>\n",
       "      <th>3</th>\n",
       "      <td>항공업계 러시아 운항영공 통과 중단우회항로 이용 기사내용 요약대한항공아시아나 등 우...</td>\n",
       "    </tr>\n",
       "    <tr>\n",
       "      <th>4</th>\n",
       "      <td>에 꽂힌 핀다  렌트리스 이어 오토론까지 보폭 확대 핀다 정상연 수석매니저 인터뷰2...</td>\n",
       "    </tr>\n",
       "  </tbody>\n",
       "</table>\n",
       "</div>"
      ],
      "text/plain": [
       "                                             content\n",
       "0  G7 원전사고 국경 넘어 민간인에 방사성 물질 노출 위험 무력분쟁 핵시설 파손으로 ...\n",
       "1  에 꽂힌 핀다   렌트리스 이어 오토론까지 보폭 확대 핀다 정상연 수석매니저 인터뷰...\n",
       "2  3000명 회원에게 제각기 다른 3000개 앱이 되겠다여성 패션앱 1위 에이블리의 ...\n",
       "3  항공업계 러시아 운항영공 통과 중단우회항로 이용 기사내용 요약대한항공아시아나 등 우...\n",
       "4  에 꽂힌 핀다  렌트리스 이어 오토론까지 보폭 확대 핀다 정상연 수석매니저 인터뷰2..."
      ]
     },
     "execution_count": 10,
     "metadata": {},
     "output_type": "execute_result"
    }
   ],
   "source": [
    "df.head()"
   ]
  },
  {
   "cell_type": "code",
   "execution_count": 12,
   "id": "0656b22e",
   "metadata": {},
   "outputs": [
    {
     "name": "stdout",
     "output_type": "stream",
     "text": [
      "<class 'pandas.core.frame.DataFrame'>\n",
      "RangeIndex: 5011 entries, 0 to 5010\n",
      "Data columns (total 1 columns):\n",
      " #   Column   Non-Null Count  Dtype \n",
      "---  ------   --------------  ----- \n",
      " 0   content  5011 non-null   object\n",
      "dtypes: object(1)\n",
      "memory usage: 39.3+ KB\n"
     ]
    }
   ],
   "source": [
    "df.info()"
   ]
  },
  {
   "cell_type": "markdown",
   "id": "aaf0a8b4",
   "metadata": {},
   "source": [
    "# *batch*"
   ]
  },
  {
   "cell_type": "code",
   "execution_count": 11,
   "id": "d33b3edb",
   "metadata": {},
   "outputs": [],
   "source": [
    "def batch(iterable, batch_size):\n",
    "    l = len(iterable)\n",
    "    for ndx in range(0, l, batch_size):\n",
    "        yield iterable[ndx:min(ndx + batch_size, l)]"
   ]
  },
  {
   "cell_type": "code",
   "execution_count": 14,
   "id": "23317d4f",
   "metadata": {},
   "outputs": [
    {
     "name": "stdout",
     "output_type": "stream",
     "text": [
      "1000\n",
      "1000\n",
      "1000\n",
      "1000\n",
      "1000\n",
      "11\n"
     ]
    }
   ],
   "source": [
    "for batch_df in batch(df, 1000):\n",
    "    print(len(batch_df))"
   ]
  }
 ],
 "metadata": {
  "kernelspec": {
   "display_name": "Python 3",
   "language": "python",
   "name": "python3"
  },
  "language_info": {
   "codemirror_mode": {
    "name": "ipython",
    "version": 3
   },
   "file_extension": ".py",
   "mimetype": "text/x-python",
   "name": "python",
   "nbconvert_exporter": "python",
   "pygments_lexer": "ipython3",
   "version": "3.8.10"
  }
 },
 "nbformat": 4,
 "nbformat_minor": 5
}
