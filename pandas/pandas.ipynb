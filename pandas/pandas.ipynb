{
 "cells": [
  {
   "cell_type": "markdown",
   "id": "8f57ef6d",
   "metadata": {},
   "source": [
    "# *Pandas(Panel data)*"
   ]
  },
  {
   "cell_type": "markdown",
   "id": "632cbd78",
   "metadata": {},
   "source": [
    "# "
   ]
  },
  {
   "cell_type": "markdown",
   "id": "d0473c29",
   "metadata": {},
   "source": [
    "# 👉🏻 *DataFrame Setting*"
   ]
  },
  {
   "cell_type": "markdown",
   "id": "6c1c5fc4",
   "metadata": {},
   "source": [
    "### *Cell 너비 설정*"
   ]
  },
  {
   "cell_type": "code",
   "execution_count": 1,
   "id": "02d6d712",
   "metadata": {},
   "outputs": [],
   "source": [
    "import pandas as pd\n",
    "\n",
    "pd.set_option('display.max.colwidth', 500)"
   ]
  },
  {
   "cell_type": "code",
   "execution_count": 2,
   "id": "382ba292",
   "metadata": {},
   "outputs": [],
   "source": [
    "data = {'open': [102000000000000000000000000000000000000, 202000000000000000000000000000000000000, 302000000000000000000000000000000000000, 402000000000000000000000000000000000000, 502000000000000000000000000000000000000],}"
   ]
  },
  {
   "cell_type": "code",
   "execution_count": 3,
   "id": "a44813f1",
   "metadata": {},
   "outputs": [
    {
     "data": {
      "text/html": [
       "<div>\n",
       "<style scoped>\n",
       "    .dataframe tbody tr th:only-of-type {\n",
       "        vertical-align: middle;\n",
       "    }\n",
       "\n",
       "    .dataframe tbody tr th {\n",
       "        vertical-align: top;\n",
       "    }\n",
       "\n",
       "    .dataframe thead th {\n",
       "        text-align: right;\n",
       "    }\n",
       "</style>\n",
       "<table border=\"1\" class=\"dataframe\">\n",
       "  <thead>\n",
       "    <tr style=\"text-align: right;\">\n",
       "      <th></th>\n",
       "      <th>open</th>\n",
       "    </tr>\n",
       "  </thead>\n",
       "  <tbody>\n",
       "    <tr>\n",
       "      <th>0</th>\n",
       "      <td>102000000000000000000000000000000000000</td>\n",
       "    </tr>\n",
       "    <tr>\n",
       "      <th>1</th>\n",
       "      <td>202000000000000000000000000000000000000</td>\n",
       "    </tr>\n",
       "    <tr>\n",
       "      <th>2</th>\n",
       "      <td>302000000000000000000000000000000000000</td>\n",
       "    </tr>\n",
       "    <tr>\n",
       "      <th>3</th>\n",
       "      <td>402000000000000000000000000000000000000</td>\n",
       "    </tr>\n",
       "    <tr>\n",
       "      <th>4</th>\n",
       "      <td>502000000000000000000000000000000000000</td>\n",
       "    </tr>\n",
       "  </tbody>\n",
       "</table>\n",
       "</div>"
      ],
      "text/plain": [
       "                                      open\n",
       "0  102000000000000000000000000000000000000\n",
       "1  202000000000000000000000000000000000000\n",
       "2  302000000000000000000000000000000000000\n",
       "3  402000000000000000000000000000000000000\n",
       "4  502000000000000000000000000000000000000"
      ]
     },
     "execution_count": 3,
     "metadata": {},
     "output_type": "execute_result"
    }
   ],
   "source": [
    "df = pd.DataFrame(data)\n",
    "df"
   ]
  },
  {
   "cell_type": "markdown",
   "id": "0191e10f",
   "metadata": {},
   "source": [
    "### *최대 열 갯수 설정*"
   ]
  },
  {
   "cell_type": "code",
   "execution_count": 13,
   "id": "3322d4d6",
   "metadata": {},
   "outputs": [],
   "source": [
    "import pandas as pd\n",
    "\n",
    "pd.set_option('display.max.columns', 3)"
   ]
  },
  {
   "cell_type": "code",
   "execution_count": 14,
   "id": "a148212d",
   "metadata": {},
   "outputs": [],
   "source": [
    "data = {'open': [10200.2, 30000, 30020, 41200, 12000],\n",
    "        'high': [20100.4, 12400, 20000, 50050, 21200],\n",
    "        'low': [15000.6, 20000, 40000, 20300, 41020],\n",
    "        'close': [32000.2, 20040, 23400, 50000, 12400]}\n",
    "df = pd.DataFrame(data)"
   ]
  },
  {
   "cell_type": "code",
   "execution_count": 15,
   "id": "3e175a71",
   "metadata": {},
   "outputs": [
    {
     "data": {
      "text/html": [
       "<div>\n",
       "<style scoped>\n",
       "    .dataframe tbody tr th:only-of-type {\n",
       "        vertical-align: middle;\n",
       "    }\n",
       "\n",
       "    .dataframe tbody tr th {\n",
       "        vertical-align: top;\n",
       "    }\n",
       "\n",
       "    .dataframe thead th {\n",
       "        text-align: right;\n",
       "    }\n",
       "</style>\n",
       "<table border=\"1\" class=\"dataframe\">\n",
       "  <thead>\n",
       "    <tr style=\"text-align: right;\">\n",
       "      <th></th>\n",
       "      <th>open</th>\n",
       "      <th>...</th>\n",
       "      <th>close</th>\n",
       "    </tr>\n",
       "  </thead>\n",
       "  <tbody>\n",
       "    <tr>\n",
       "      <th>0</th>\n",
       "      <td>10200.2</td>\n",
       "      <td>...</td>\n",
       "      <td>32000.2</td>\n",
       "    </tr>\n",
       "    <tr>\n",
       "      <th>1</th>\n",
       "      <td>30000.0</td>\n",
       "      <td>...</td>\n",
       "      <td>20040.0</td>\n",
       "    </tr>\n",
       "    <tr>\n",
       "      <th>2</th>\n",
       "      <td>30020.0</td>\n",
       "      <td>...</td>\n",
       "      <td>23400.0</td>\n",
       "    </tr>\n",
       "    <tr>\n",
       "      <th>3</th>\n",
       "      <td>41200.0</td>\n",
       "      <td>...</td>\n",
       "      <td>50000.0</td>\n",
       "    </tr>\n",
       "    <tr>\n",
       "      <th>4</th>\n",
       "      <td>12000.0</td>\n",
       "      <td>...</td>\n",
       "      <td>12400.0</td>\n",
       "    </tr>\n",
       "  </tbody>\n",
       "</table>\n",
       "<p>5 rows × 4 columns</p>\n",
       "</div>"
      ],
      "text/plain": [
       "      open  ...    close\n",
       "0  10200.2  ...  32000.2\n",
       "1  30000.0  ...  20040.0\n",
       "2  30020.0  ...  23400.0\n",
       "3  41200.0  ...  50000.0\n",
       "4  12000.0  ...  12400.0\n",
       "\n",
       "[5 rows x 4 columns]"
      ]
     },
     "execution_count": 15,
     "metadata": {},
     "output_type": "execute_result"
    }
   ],
   "source": [
    "df.head()"
   ]
  },
  {
   "cell_type": "markdown",
   "id": "8a74426f",
   "metadata": {},
   "source": [
    "### *최대 행 갯수 설정*"
   ]
  },
  {
   "cell_type": "code",
   "execution_count": 16,
   "id": "2e7d536b",
   "metadata": {},
   "outputs": [],
   "source": [
    "import pandas as pd\n",
    "import numpy as np"
   ]
  },
  {
   "cell_type": "code",
   "execution_count": 17,
   "id": "b01088fd",
   "metadata": {},
   "outputs": [
    {
     "data": {
      "text/html": [
       "<div>\n",
       "<style scoped>\n",
       "    .dataframe tbody tr th:only-of-type {\n",
       "        vertical-align: middle;\n",
       "    }\n",
       "\n",
       "    .dataframe tbody tr th {\n",
       "        vertical-align: top;\n",
       "    }\n",
       "\n",
       "    .dataframe thead th {\n",
       "        text-align: right;\n",
       "    }\n",
       "</style>\n",
       "<table border=\"1\" class=\"dataframe\">\n",
       "  <thead>\n",
       "    <tr style=\"text-align: right;\">\n",
       "      <th></th>\n",
       "      <th>0</th>\n",
       "    </tr>\n",
       "  </thead>\n",
       "  <tbody>\n",
       "    <tr>\n",
       "      <th>0</th>\n",
       "      <td>0</td>\n",
       "    </tr>\n",
       "    <tr>\n",
       "      <th>1</th>\n",
       "      <td>1</td>\n",
       "    </tr>\n",
       "    <tr>\n",
       "      <th>2</th>\n",
       "      <td>2</td>\n",
       "    </tr>\n",
       "    <tr>\n",
       "      <th>3</th>\n",
       "      <td>3</td>\n",
       "    </tr>\n",
       "    <tr>\n",
       "      <th>4</th>\n",
       "      <td>4</td>\n",
       "    </tr>\n",
       "    <tr>\n",
       "      <th>...</th>\n",
       "      <td>...</td>\n",
       "    </tr>\n",
       "    <tr>\n",
       "      <th>195</th>\n",
       "      <td>195</td>\n",
       "    </tr>\n",
       "    <tr>\n",
       "      <th>196</th>\n",
       "      <td>196</td>\n",
       "    </tr>\n",
       "    <tr>\n",
       "      <th>197</th>\n",
       "      <td>197</td>\n",
       "    </tr>\n",
       "    <tr>\n",
       "      <th>198</th>\n",
       "      <td>198</td>\n",
       "    </tr>\n",
       "    <tr>\n",
       "      <th>199</th>\n",
       "      <td>199</td>\n",
       "    </tr>\n",
       "  </tbody>\n",
       "</table>\n",
       "<p>200 rows × 1 columns</p>\n",
       "</div>"
      ],
      "text/plain": [
       "       0\n",
       "0      0\n",
       "1      1\n",
       "2      2\n",
       "3      3\n",
       "4      4\n",
       "..   ...\n",
       "195  195\n",
       "196  196\n",
       "197  197\n",
       "198  198\n",
       "199  199\n",
       "\n",
       "[200 rows x 1 columns]"
      ]
     },
     "execution_count": 17,
     "metadata": {},
     "output_type": "execute_result"
    }
   ],
   "source": [
    "df = pd.DataFrame(np.arange(200))\n",
    "df"
   ]
  },
  {
   "cell_type": "code",
   "execution_count": 18,
   "id": "d2490c2b",
   "metadata": {},
   "outputs": [
    {
     "data": {
      "text/html": [
       "<div>\n",
       "<style scoped>\n",
       "    .dataframe tbody tr th:only-of-type {\n",
       "        vertical-align: middle;\n",
       "    }\n",
       "\n",
       "    .dataframe tbody tr th {\n",
       "        vertical-align: top;\n",
       "    }\n",
       "\n",
       "    .dataframe thead th {\n",
       "        text-align: right;\n",
       "    }\n",
       "</style>\n",
       "<table border=\"1\" class=\"dataframe\">\n",
       "  <thead>\n",
       "    <tr style=\"text-align: right;\">\n",
       "      <th></th>\n",
       "      <th>0</th>\n",
       "      <th>1</th>\n",
       "    </tr>\n",
       "  </thead>\n",
       "  <tbody>\n",
       "    <tr>\n",
       "      <th>0</th>\n",
       "      <td>0</td>\n",
       "      <td>1</td>\n",
       "    </tr>\n",
       "    <tr>\n",
       "      <th>1</th>\n",
       "      <td>2</td>\n",
       "      <td>3</td>\n",
       "    </tr>\n",
       "    <tr>\n",
       "      <th>2</th>\n",
       "      <td>4</td>\n",
       "      <td>5</td>\n",
       "    </tr>\n",
       "    <tr>\n",
       "      <th>3</th>\n",
       "      <td>6</td>\n",
       "      <td>7</td>\n",
       "    </tr>\n",
       "    <tr>\n",
       "      <th>4</th>\n",
       "      <td>8</td>\n",
       "      <td>9</td>\n",
       "    </tr>\n",
       "    <tr>\n",
       "      <th>...</th>\n",
       "      <td>...</td>\n",
       "      <td>...</td>\n",
       "    </tr>\n",
       "    <tr>\n",
       "      <th>95</th>\n",
       "      <td>190</td>\n",
       "      <td>191</td>\n",
       "    </tr>\n",
       "    <tr>\n",
       "      <th>96</th>\n",
       "      <td>192</td>\n",
       "      <td>193</td>\n",
       "    </tr>\n",
       "    <tr>\n",
       "      <th>97</th>\n",
       "      <td>194</td>\n",
       "      <td>195</td>\n",
       "    </tr>\n",
       "    <tr>\n",
       "      <th>98</th>\n",
       "      <td>196</td>\n",
       "      <td>197</td>\n",
       "    </tr>\n",
       "    <tr>\n",
       "      <th>99</th>\n",
       "      <td>198</td>\n",
       "      <td>199</td>\n",
       "    </tr>\n",
       "  </tbody>\n",
       "</table>\n",
       "<p>100 rows × 2 columns</p>\n",
       "</div>"
      ],
      "text/plain": [
       "      0    1\n",
       "0     0    1\n",
       "1     2    3\n",
       "2     4    5\n",
       "3     6    7\n",
       "4     8    9\n",
       "..  ...  ...\n",
       "95  190  191\n",
       "96  192  193\n",
       "97  194  195\n",
       "98  196  197\n",
       "99  198  199\n",
       "\n",
       "[100 rows x 2 columns]"
      ]
     },
     "execution_count": 18,
     "metadata": {},
     "output_type": "execute_result"
    }
   ],
   "source": [
    "df = pd.DataFrame(np.arange(200).reshape(100, 2))\n",
    "df"
   ]
  },
  {
   "cell_type": "markdown",
   "id": "b8d6689d",
   "metadata": {},
   "source": [
    "### *텍스트 정렬*"
   ]
  },
  {
   "cell_type": "code",
   "execution_count": 19,
   "id": "9939ee41",
   "metadata": {},
   "outputs": [],
   "source": [
    "import pandas as pd"
   ]
  },
  {
   "cell_type": "code",
   "execution_count": 20,
   "id": "5320395c",
   "metadata": {},
   "outputs": [],
   "source": [
    "data = {'open': [10200.2, 30000, 30020, 41200, 12000],\n",
    "        'high': [20100.4, 12400, 20000, 50050, 21200],\n",
    "        'low': [15000.6, 20000, 40000, 20300, 41020],\n",
    "        'close': [32000.2, 20040, 23400, 50000, 12400]}"
   ]
  },
  {
   "cell_type": "code",
   "execution_count": 21,
   "id": "4cef3de3",
   "metadata": {},
   "outputs": [],
   "source": [
    "df = pd.DataFrame(data)"
   ]
  },
  {
   "cell_type": "code",
   "execution_count": 22,
   "id": "8becc13e",
   "metadata": {},
   "outputs": [
    {
     "data": {
      "text/html": [
       "<style type=\"text/css\">\n",
       "#T_487b0_ th {\n",
       "  text-align: right;\n",
       "}\n",
       "#T_487b0_row0_col0, #T_487b0_row0_col1, #T_487b0_row0_col2, #T_487b0_row0_col3, #T_487b0_row1_col0, #T_487b0_row1_col1, #T_487b0_row1_col2, #T_487b0_row1_col3, #T_487b0_row2_col0, #T_487b0_row2_col1, #T_487b0_row2_col2, #T_487b0_row2_col3, #T_487b0_row3_col0, #T_487b0_row3_col1, #T_487b0_row3_col2, #T_487b0_row3_col3, #T_487b0_row4_col0, #T_487b0_row4_col1, #T_487b0_row4_col2, #T_487b0_row4_col3 {\n",
       "  text-aligh: right;\n",
       "}\n",
       "</style>\n",
       "<table id=\"T_487b0_\">\n",
       "  <thead>\n",
       "    <tr>\n",
       "      <th class=\"blank level0\" >&nbsp;</th>\n",
       "      <th class=\"col_heading level0 col0\" >open</th>\n",
       "      <th class=\"col_heading level0 col1\" >high</th>\n",
       "      <th class=\"col_heading level0 col2\" >low</th>\n",
       "      <th class=\"col_heading level0 col3\" >close</th>\n",
       "    </tr>\n",
       "  </thead>\n",
       "  <tbody>\n",
       "    <tr>\n",
       "      <th id=\"T_487b0_level0_row0\" class=\"row_heading level0 row0\" >0</th>\n",
       "      <td id=\"T_487b0_row0_col0\" class=\"data row0 col0\" >10200.200000</td>\n",
       "      <td id=\"T_487b0_row0_col1\" class=\"data row0 col1\" >20100.400000</td>\n",
       "      <td id=\"T_487b0_row0_col2\" class=\"data row0 col2\" >15000.600000</td>\n",
       "      <td id=\"T_487b0_row0_col3\" class=\"data row0 col3\" >32000.200000</td>\n",
       "    </tr>\n",
       "    <tr>\n",
       "      <th id=\"T_487b0_level0_row1\" class=\"row_heading level0 row1\" >1</th>\n",
       "      <td id=\"T_487b0_row1_col0\" class=\"data row1 col0\" >30000.000000</td>\n",
       "      <td id=\"T_487b0_row1_col1\" class=\"data row1 col1\" >12400.000000</td>\n",
       "      <td id=\"T_487b0_row1_col2\" class=\"data row1 col2\" >20000.000000</td>\n",
       "      <td id=\"T_487b0_row1_col3\" class=\"data row1 col3\" >20040.000000</td>\n",
       "    </tr>\n",
       "    <tr>\n",
       "      <th id=\"T_487b0_level0_row2\" class=\"row_heading level0 row2\" >2</th>\n",
       "      <td id=\"T_487b0_row2_col0\" class=\"data row2 col0\" >30020.000000</td>\n",
       "      <td id=\"T_487b0_row2_col1\" class=\"data row2 col1\" >20000.000000</td>\n",
       "      <td id=\"T_487b0_row2_col2\" class=\"data row2 col2\" >40000.000000</td>\n",
       "      <td id=\"T_487b0_row2_col3\" class=\"data row2 col3\" >23400.000000</td>\n",
       "    </tr>\n",
       "    <tr>\n",
       "      <th id=\"T_487b0_level0_row3\" class=\"row_heading level0 row3\" >3</th>\n",
       "      <td id=\"T_487b0_row3_col0\" class=\"data row3 col0\" >41200.000000</td>\n",
       "      <td id=\"T_487b0_row3_col1\" class=\"data row3 col1\" >50050.000000</td>\n",
       "      <td id=\"T_487b0_row3_col2\" class=\"data row3 col2\" >20300.000000</td>\n",
       "      <td id=\"T_487b0_row3_col3\" class=\"data row3 col3\" >50000.000000</td>\n",
       "    </tr>\n",
       "    <tr>\n",
       "      <th id=\"T_487b0_level0_row4\" class=\"row_heading level0 row4\" >4</th>\n",
       "      <td id=\"T_487b0_row4_col0\" class=\"data row4 col0\" >12000.000000</td>\n",
       "      <td id=\"T_487b0_row4_col1\" class=\"data row4 col1\" >21200.000000</td>\n",
       "      <td id=\"T_487b0_row4_col2\" class=\"data row4 col2\" >41020.000000</td>\n",
       "      <td id=\"T_487b0_row4_col3\" class=\"data row4 col3\" >12400.000000</td>\n",
       "    </tr>\n",
       "  </tbody>\n",
       "</table>\n"
      ],
      "text/plain": [
       "<pandas.io.formats.style.Styler at 0x7f08c2909df0>"
      ]
     },
     "execution_count": 22,
     "metadata": {},
     "output_type": "execute_result"
    }
   ],
   "source": [
    "dfStyler = df.style.set_properties(**{'text-aligh': 'right'})\n",
    "dfStyler.set_table_styles([dict(selector='th', \n",
    "                                props=[('text-align', 'right')])])"
   ]
  },
  {
   "cell_type": "markdown",
   "id": "a6b1d17e",
   "metadata": {},
   "source": [
    "### *소수점 자릿수 설정*"
   ]
  },
  {
   "cell_type": "code",
   "execution_count": 23,
   "id": "718dff91",
   "metadata": {},
   "outputs": [],
   "source": [
    "pd.options.display.float_format = '{:.2f}'.format"
   ]
  },
  {
   "cell_type": "code",
   "execution_count": 24,
   "id": "546ee993",
   "metadata": {},
   "outputs": [
    {
     "data": {
      "text/html": [
       "<div>\n",
       "<style scoped>\n",
       "    .dataframe tbody tr th:only-of-type {\n",
       "        vertical-align: middle;\n",
       "    }\n",
       "\n",
       "    .dataframe tbody tr th {\n",
       "        vertical-align: top;\n",
       "    }\n",
       "\n",
       "    .dataframe thead th {\n",
       "        text-align: right;\n",
       "    }\n",
       "</style>\n",
       "<table border=\"1\" class=\"dataframe\">\n",
       "  <thead>\n",
       "    <tr style=\"text-align: right;\">\n",
       "      <th></th>\n",
       "      <th>open</th>\n",
       "      <th>...</th>\n",
       "      <th>close</th>\n",
       "    </tr>\n",
       "  </thead>\n",
       "  <tbody>\n",
       "    <tr>\n",
       "      <th>0</th>\n",
       "      <td>10200.20</td>\n",
       "      <td>...</td>\n",
       "      <td>32000.20</td>\n",
       "    </tr>\n",
       "    <tr>\n",
       "      <th>1</th>\n",
       "      <td>30000.00</td>\n",
       "      <td>...</td>\n",
       "      <td>20040.00</td>\n",
       "    </tr>\n",
       "    <tr>\n",
       "      <th>2</th>\n",
       "      <td>30020.00</td>\n",
       "      <td>...</td>\n",
       "      <td>23400.00</td>\n",
       "    </tr>\n",
       "    <tr>\n",
       "      <th>3</th>\n",
       "      <td>41200.00</td>\n",
       "      <td>...</td>\n",
       "      <td>50000.00</td>\n",
       "    </tr>\n",
       "    <tr>\n",
       "      <th>4</th>\n",
       "      <td>12000.00</td>\n",
       "      <td>...</td>\n",
       "      <td>12400.00</td>\n",
       "    </tr>\n",
       "  </tbody>\n",
       "</table>\n",
       "<p>5 rows × 4 columns</p>\n",
       "</div>"
      ],
      "text/plain": [
       "      open  ...    close\n",
       "0 10200.20  ... 32000.20\n",
       "1 30000.00  ... 20040.00\n",
       "2 30020.00  ... 23400.00\n",
       "3 41200.00  ... 50000.00\n",
       "4 12000.00  ... 12400.00\n",
       "\n",
       "[5 rows x 4 columns]"
      ]
     },
     "execution_count": 24,
     "metadata": {},
     "output_type": "execute_result"
    }
   ],
   "source": [
    "df"
   ]
  },
  {
   "cell_type": "markdown",
   "id": "032d8258",
   "metadata": {},
   "source": [
    "# "
   ]
  },
  {
   "cell_type": "markdown",
   "id": "db5a0e4e",
   "metadata": {},
   "source": [
    "# 👉🏻 *column 순서 지정 & index 부여*"
   ]
  },
  {
   "cell_type": "code",
   "execution_count": 25,
   "id": "8366d671",
   "metadata": {},
   "outputs": [],
   "source": [
    "import pandas as pd"
   ]
  },
  {
   "cell_type": "code",
   "execution_count": 8,
   "id": "61f7d65c",
   "metadata": {},
   "outputs": [],
   "source": [
    "data = {'open': [10200, 30000, 30020, 41200, 12000],\n",
    "        'high': [20100, 12400, 20000, 50050, 21200],\n",
    "        'low': [15000, 20000, 40000, 20300, 41020],\n",
    "        'close': [32000, 20040, 23400, 50000, 12400]}"
   ]
  },
  {
   "cell_type": "code",
   "execution_count": null,
   "id": "c4f3b208",
   "metadata": {},
   "outputs": [],
   "source": [
    "index = ['ㄱ', 'ㄴ', 'ㄷ', 'ㄹ', 'ㅁ']\n",
    "data = pd.DataFrame(data, columns=['open', 'high', 'low', 'close'], index=index)\n",
    "print(type(data))"
   ]
  },
  {
   "cell_type": "code",
   "execution_count": 6,
   "id": "7c5e3eb0",
   "metadata": {},
   "outputs": [
    {
     "data": {
      "text/html": [
       "<div>\n",
       "<style scoped>\n",
       "    .dataframe tbody tr th:only-of-type {\n",
       "        vertical-align: middle;\n",
       "    }\n",
       "\n",
       "    .dataframe tbody tr th {\n",
       "        vertical-align: top;\n",
       "    }\n",
       "\n",
       "    .dataframe thead th {\n",
       "        text-align: right;\n",
       "    }\n",
       "</style>\n",
       "<table border=\"1\" class=\"dataframe\">\n",
       "  <thead>\n",
       "    <tr style=\"text-align: right;\">\n",
       "      <th></th>\n",
       "      <th>open</th>\n",
       "      <th>high</th>\n",
       "      <th>low</th>\n",
       "      <th>close</th>\n",
       "    </tr>\n",
       "  </thead>\n",
       "  <tbody>\n",
       "    <tr>\n",
       "      <th>ㄱ</th>\n",
       "      <td>10200</td>\n",
       "      <td>20100</td>\n",
       "      <td>15000</td>\n",
       "      <td>32000</td>\n",
       "    </tr>\n",
       "    <tr>\n",
       "      <th>ㄴ</th>\n",
       "      <td>30000</td>\n",
       "      <td>12400</td>\n",
       "      <td>20000</td>\n",
       "      <td>20040</td>\n",
       "    </tr>\n",
       "    <tr>\n",
       "      <th>ㄷ</th>\n",
       "      <td>30020</td>\n",
       "      <td>20000</td>\n",
       "      <td>40000</td>\n",
       "      <td>23400</td>\n",
       "    </tr>\n",
       "    <tr>\n",
       "      <th>ㄹ</th>\n",
       "      <td>41200</td>\n",
       "      <td>50050</td>\n",
       "      <td>20300</td>\n",
       "      <td>50000</td>\n",
       "    </tr>\n",
       "    <tr>\n",
       "      <th>ㅁ</th>\n",
       "      <td>12000</td>\n",
       "      <td>21200</td>\n",
       "      <td>41020</td>\n",
       "      <td>12400</td>\n",
       "    </tr>\n",
       "  </tbody>\n",
       "</table>\n",
       "</div>"
      ],
      "text/plain": [
       "    open   high    low  close\n",
       "ㄱ  10200  20100  15000  32000\n",
       "ㄴ  30000  12400  20000  20040\n",
       "ㄷ  30020  20000  40000  23400\n",
       "ㄹ  41200  50050  20300  50000\n",
       "ㅁ  12000  21200  41020  12400"
      ]
     },
     "execution_count": 6,
     "metadata": {},
     "output_type": "execute_result"
    }
   ],
   "source": [
    "data.head()"
   ]
  },
  {
   "cell_type": "code",
   "execution_count": 7,
   "id": "bcf85040",
   "metadata": {},
   "outputs": [
    {
     "name": "stdout",
     "output_type": "stream",
     "text": [
      "ㄱ    10200\n",
      "ㄴ    30000\n",
      "ㄷ    30020\n",
      "ㄹ    41200\n",
      "ㅁ    12000\n",
      "Name: open, dtype: int64\n",
      "<class 'pandas.core.series.Series'>\n",
      "ㄱ    10200\n",
      "ㄴ    30000\n",
      "ㄷ    30020\n",
      "ㄹ    41200\n",
      "ㅁ    12000\n",
      "Name: open, dtype: int64\n",
      "<class 'pandas.core.series.Series'>\n"
     ]
    }
   ],
   "source": [
    "print(data.open)\n",
    "print(type(data.open))\n",
    "print(data['open'])\n",
    "print(type(data['open']))"
   ]
  },
  {
   "cell_type": "markdown",
   "id": "790126e9",
   "metadata": {},
   "source": [
    "# "
   ]
  },
  {
   "cell_type": "markdown",
   "id": "1add038d",
   "metadata": {},
   "source": [
    "# 👉🏻 *Series → DataFrame*"
   ]
  },
  {
   "cell_type": "code",
   "execution_count": 1,
   "id": "3d2bae36",
   "metadata": {},
   "outputs": [],
   "source": [
    "import pandas as pd"
   ]
  },
  {
   "cell_type": "code",
   "execution_count": 2,
   "id": "44567a60",
   "metadata": {},
   "outputs": [],
   "source": [
    "li1 = [1, 2, 3]\n",
    "li2 = [1, 2, 3, 4]"
   ]
  },
  {
   "cell_type": "code",
   "execution_count": 3,
   "id": "06c1f5a4",
   "metadata": {},
   "outputs": [],
   "source": [
    "d = {'one': pd.Series(li1),\n",
    "     'two': pd.Series(li2)}\n",
    "df = pd.DataFrame(d)"
   ]
  },
  {
   "cell_type": "code",
   "execution_count": 5,
   "id": "ffb36361",
   "metadata": {},
   "outputs": [],
   "source": [
    "df['three'] = ['일', '이', '삼', '시']"
   ]
  },
  {
   "cell_type": "code",
   "execution_count": 8,
   "id": "5c9b7416",
   "metadata": {},
   "outputs": [],
   "source": [
    "df['four'] = pd.Series([10,20,30])"
   ]
  },
  {
   "cell_type": "code",
   "execution_count": 9,
   "id": "82c746e0",
   "metadata": {},
   "outputs": [
    {
     "data": {
      "text/html": [
       "<div>\n",
       "<style scoped>\n",
       "    .dataframe tbody tr th:only-of-type {\n",
       "        vertical-align: middle;\n",
       "    }\n",
       "\n",
       "    .dataframe tbody tr th {\n",
       "        vertical-align: top;\n",
       "    }\n",
       "\n",
       "    .dataframe thead th {\n",
       "        text-align: right;\n",
       "    }\n",
       "</style>\n",
       "<table border=\"1\" class=\"dataframe\">\n",
       "  <thead>\n",
       "    <tr style=\"text-align: right;\">\n",
       "      <th></th>\n",
       "      <th>one</th>\n",
       "      <th>two</th>\n",
       "      <th>three</th>\n",
       "      <th>four</th>\n",
       "    </tr>\n",
       "  </thead>\n",
       "  <tbody>\n",
       "    <tr>\n",
       "      <th>0</th>\n",
       "      <td>1.0</td>\n",
       "      <td>1</td>\n",
       "      <td>일</td>\n",
       "      <td>10.0</td>\n",
       "    </tr>\n",
       "    <tr>\n",
       "      <th>1</th>\n",
       "      <td>2.0</td>\n",
       "      <td>2</td>\n",
       "      <td>이</td>\n",
       "      <td>20.0</td>\n",
       "    </tr>\n",
       "    <tr>\n",
       "      <th>2</th>\n",
       "      <td>3.0</td>\n",
       "      <td>3</td>\n",
       "      <td>삼</td>\n",
       "      <td>30.0</td>\n",
       "    </tr>\n",
       "    <tr>\n",
       "      <th>3</th>\n",
       "      <td>NaN</td>\n",
       "      <td>4</td>\n",
       "      <td>시</td>\n",
       "      <td>NaN</td>\n",
       "    </tr>\n",
       "  </tbody>\n",
       "</table>\n",
       "</div>"
      ],
      "text/plain": [
       "   one  two three  four\n",
       "0  1.0    1     일  10.0\n",
       "1  2.0    2     이  20.0\n",
       "2  3.0    3     삼  30.0\n",
       "3  NaN    4     시   NaN"
      ]
     },
     "execution_count": 9,
     "metadata": {},
     "output_type": "execute_result"
    }
   ],
   "source": [
    "df.head()"
   ]
  },
  {
   "cell_type": "markdown",
   "id": "52a54937",
   "metadata": {},
   "source": [
    "# "
   ]
  },
  {
   "cell_type": "markdown",
   "id": "ed949f88",
   "metadata": {},
   "source": [
    "# 👉🏻 *drop, del*"
   ]
  },
  {
   "cell_type": "code",
   "execution_count": 1,
   "id": "8fd05cf9",
   "metadata": {},
   "outputs": [],
   "source": [
    "import pandas as pd\n",
    "import pickle"
   ]
  },
  {
   "cell_type": "code",
   "execution_count": 2,
   "id": "87a90006",
   "metadata": {},
   "outputs": [],
   "source": [
    "with open('../data/sample.pickle', 'rb') as f:\n",
    "    df = pickle.load(f)"
   ]
  },
  {
   "cell_type": "code",
   "execution_count": 3,
   "id": "eb8c5647",
   "metadata": {},
   "outputs": [
    {
     "data": {
      "text/html": [
       "<div>\n",
       "<style scoped>\n",
       "    .dataframe tbody tr th:only-of-type {\n",
       "        vertical-align: middle;\n",
       "    }\n",
       "\n",
       "    .dataframe tbody tr th {\n",
       "        vertical-align: top;\n",
       "    }\n",
       "\n",
       "    .dataframe thead th {\n",
       "        text-align: right;\n",
       "    }\n",
       "</style>\n",
       "<table border=\"1\" class=\"dataframe\">\n",
       "  <thead>\n",
       "    <tr style=\"text-align: right;\">\n",
       "      <th></th>\n",
       "      <th>id</th>\n",
       "      <th>predict</th>\n",
       "    </tr>\n",
       "  </thead>\n",
       "  <tbody>\n",
       "    <tr>\n",
       "      <th>0</th>\n",
       "      <td>1</td>\n",
       "      <td>증강현실, 미디어</td>\n",
       "    </tr>\n",
       "    <tr>\n",
       "      <th>1</th>\n",
       "      <td>2</td>\n",
       "      <td>경제, 투자</td>\n",
       "    </tr>\n",
       "    <tr>\n",
       "      <th>2</th>\n",
       "      <td>3</td>\n",
       "      <td>etc</td>\n",
       "    </tr>\n",
       "    <tr>\n",
       "      <th>3</th>\n",
       "      <td>4</td>\n",
       "      <td>통신, 광고, 서버</td>\n",
       "    </tr>\n",
       "    <tr>\n",
       "      <th>4</th>\n",
       "      <td>5</td>\n",
       "      <td>투자, 직업, 경제</td>\n",
       "    </tr>\n",
       "  </tbody>\n",
       "</table>\n",
       "</div>"
      ],
      "text/plain": [
       "   id     predict\n",
       "0   1   증강현실, 미디어\n",
       "1   2      경제, 투자\n",
       "2   3         etc\n",
       "3   4  통신, 광고, 서버\n",
       "4   5  투자, 직업, 경제"
      ]
     },
     "execution_count": 3,
     "metadata": {},
     "output_type": "execute_result"
    }
   ],
   "source": [
    "df.head()"
   ]
  },
  {
   "cell_type": "markdown",
   "id": "34882992",
   "metadata": {},
   "source": [
    "### ⓵"
   ]
  },
  {
   "cell_type": "code",
   "execution_count": 4,
   "id": "3e9082d6",
   "metadata": {},
   "outputs": [],
   "source": [
    "# axis=0 행, axis=1 열\n",
    "df.drop('id', axis=1, inplace=True)"
   ]
  },
  {
   "cell_type": "markdown",
   "id": "3fc6eba7",
   "metadata": {},
   "source": [
    "### ②"
   ]
  },
  {
   "cell_type": "code",
   "execution_count": 4,
   "id": "f229518b",
   "metadata": {},
   "outputs": [],
   "source": [
    "del df['id']"
   ]
  },
  {
   "cell_type": "code",
   "execution_count": 5,
   "id": "abdbccb0",
   "metadata": {},
   "outputs": [
    {
     "data": {
      "text/html": [
       "<div>\n",
       "<style scoped>\n",
       "    .dataframe tbody tr th:only-of-type {\n",
       "        vertical-align: middle;\n",
       "    }\n",
       "\n",
       "    .dataframe tbody tr th {\n",
       "        vertical-align: top;\n",
       "    }\n",
       "\n",
       "    .dataframe thead th {\n",
       "        text-align: right;\n",
       "    }\n",
       "</style>\n",
       "<table border=\"1\" class=\"dataframe\">\n",
       "  <thead>\n",
       "    <tr style=\"text-align: right;\">\n",
       "      <th></th>\n",
       "      <th>predict</th>\n",
       "    </tr>\n",
       "  </thead>\n",
       "  <tbody>\n",
       "    <tr>\n",
       "      <th>0</th>\n",
       "      <td>증강현실, 미디어</td>\n",
       "    </tr>\n",
       "    <tr>\n",
       "      <th>1</th>\n",
       "      <td>경제, 투자</td>\n",
       "    </tr>\n",
       "    <tr>\n",
       "      <th>2</th>\n",
       "      <td>etc</td>\n",
       "    </tr>\n",
       "    <tr>\n",
       "      <th>3</th>\n",
       "      <td>통신, 광고, 서버</td>\n",
       "    </tr>\n",
       "    <tr>\n",
       "      <th>4</th>\n",
       "      <td>투자, 직업, 경제</td>\n",
       "    </tr>\n",
       "    <tr>\n",
       "      <th>...</th>\n",
       "      <td>...</td>\n",
       "    </tr>\n",
       "    <tr>\n",
       "      <th>99995</th>\n",
       "      <td>etc</td>\n",
       "    </tr>\n",
       "    <tr>\n",
       "      <th>99996</th>\n",
       "      <td>커머스, 식품</td>\n",
       "    </tr>\n",
       "    <tr>\n",
       "      <th>99997</th>\n",
       "      <td>etc</td>\n",
       "    </tr>\n",
       "    <tr>\n",
       "      <th>99998</th>\n",
       "      <td>etc</td>\n",
       "    </tr>\n",
       "    <tr>\n",
       "      <th>99999</th>\n",
       "      <td>etc</td>\n",
       "    </tr>\n",
       "  </tbody>\n",
       "</table>\n",
       "<p>100000 rows × 1 columns</p>\n",
       "</div>"
      ],
      "text/plain": [
       "          predict\n",
       "0       증강현실, 미디어\n",
       "1          경제, 투자\n",
       "2             etc\n",
       "3      통신, 광고, 서버\n",
       "4      투자, 직업, 경제\n",
       "...           ...\n",
       "99995         etc\n",
       "99996     커머스, 식품\n",
       "99997         etc\n",
       "99998         etc\n",
       "99999         etc\n",
       "\n",
       "[100000 rows x 1 columns]"
      ]
     },
     "execution_count": 5,
     "metadata": {},
     "output_type": "execute_result"
    }
   ],
   "source": [
    "df"
   ]
  },
  {
   "cell_type": "markdown",
   "id": "00e9be9b",
   "metadata": {},
   "source": [
    "# "
   ]
  },
  {
   "cell_type": "markdown",
   "id": "a60cb204",
   "metadata": {},
   "source": [
    "# 👉🏻 *indexing*"
   ]
  },
  {
   "cell_type": "code",
   "execution_count": 1,
   "id": "ef97f37f",
   "metadata": {},
   "outputs": [],
   "source": [
    "import pandas as pd"
   ]
  },
  {
   "cell_type": "code",
   "execution_count": 2,
   "id": "2ec2dbc4",
   "metadata": {},
   "outputs": [],
   "source": [
    "data = {'open': [10200, 30000, 30020, 41200, 12000],\n",
    "        'high': [20100, 12400, 20000, 50050, 21200],\n",
    "        'low': [15000, 20000, 40000, 20300, 41020],\n",
    "        'close': [32000, 20040, 23400, 50000, 12400]}"
   ]
  },
  {
   "cell_type": "code",
   "execution_count": 3,
   "id": "d940c6d1",
   "metadata": {},
   "outputs": [],
   "source": [
    "df = pd.DataFrame(data)"
   ]
  },
  {
   "cell_type": "markdown",
   "id": "1b5177b6",
   "metadata": {},
   "source": [
    "### ⓵ *열 인덱싱*"
   ]
  },
  {
   "cell_type": "code",
   "execution_count": 4,
   "id": "ac78b22f",
   "metadata": {},
   "outputs": [
    {
     "name": "stdout",
     "output_type": "stream",
     "text": [
      "    open   high\n",
      "0  10200  20100\n",
      "1  30000  12400\n",
      "2  30020  20000\n",
      "3  41200  50050\n",
      "4  12000  21200\n"
     ]
    }
   ],
   "source": [
    "print(df[['open', 'high']])"
   ]
  },
  {
   "cell_type": "markdown",
   "id": "488dcd63",
   "metadata": {},
   "source": [
    "### ⓵ *행 인덱싱*"
   ]
  },
  {
   "cell_type": "code",
   "execution_count": 5,
   "id": "be35ff9c",
   "metadata": {},
   "outputs": [
    {
     "name": "stdout",
     "output_type": "stream",
     "text": [
      "open     30000\n",
      "high     12400\n",
      "low      20000\n",
      "close    20040\n",
      "Name: 1, dtype: int64\n"
     ]
    }
   ],
   "source": [
    "print(df.loc[1])"
   ]
  },
  {
   "cell_type": "code",
   "execution_count": 17,
   "id": "bb7801b4",
   "metadata": {},
   "outputs": [
    {
     "name": "stdout",
     "output_type": "stream",
     "text": [
      "    open   high    low  close\n",
      "0  10200  20100  15000  32000\n",
      "1  30000  12400  20000  20040\n",
      "2  30020  20000  40000  23400\n"
     ]
    }
   ],
   "source": [
    "print(df.loc[:2])"
   ]
  },
  {
   "cell_type": "code",
   "execution_count": 7,
   "id": "b6ae2a43",
   "metadata": {},
   "outputs": [
    {
     "name": "stdout",
     "output_type": "stream",
     "text": [
      "open     30000\n",
      "high     12400\n",
      "low      20000\n",
      "close    20040\n",
      "Name: 1, dtype: int64\n"
     ]
    }
   ],
   "source": [
    "print(df.iloc[1])"
   ]
  },
  {
   "cell_type": "code",
   "execution_count": 16,
   "id": "6eb80404",
   "metadata": {},
   "outputs": [
    {
     "name": "stdout",
     "output_type": "stream",
     "text": [
      "    open   high    low  close\n",
      "0  10200  20100  15000  32000\n",
      "1  30000  12400  20000  20040\n"
     ]
    }
   ],
   "source": [
    "print(df.iloc[:2])"
   ]
  },
  {
   "cell_type": "code",
   "execution_count": 18,
   "id": "bf151ebb",
   "metadata": {},
   "outputs": [
    {
     "name": "stdout",
     "output_type": "stream",
     "text": [
      "    open   high    low  close\n",
      "0  10200  20100  15000  32000\n",
      "1  30000  12400  20000  20040\n"
     ]
    }
   ],
   "source": [
    "print(df[:2])"
   ]
  },
  {
   "cell_type": "code",
   "execution_count": null,
   "id": "7151c6f1",
   "metadata": {},
   "outputs": [],
   "source": []
  }
 ],
 "metadata": {
  "kernelspec": {
   "display_name": "Python 3",
   "language": "python",
   "name": "python3"
  },
  "language_info": {
   "codemirror_mode": {
    "name": "ipython",
    "version": 3
   },
   "file_extension": ".py",
   "mimetype": "text/x-python",
   "name": "python",
   "nbconvert_exporter": "python",
   "pygments_lexer": "ipython3",
   "version": "3.8.10"
  }
 },
 "nbformat": 4,
 "nbformat_minor": 5
}
