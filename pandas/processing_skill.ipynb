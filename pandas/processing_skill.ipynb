{
 "cells": [
  {
   "cell_type": "markdown",
   "id": "c110e6d1",
   "metadata": {},
   "source": [
    "# *data load*"
   ]
  },
  {
   "cell_type": "code",
   "execution_count": 1,
   "id": "a1ea7af4",
   "metadata": {},
   "outputs": [],
   "source": [
    "import pandas as pd"
   ]
  },
  {
   "cell_type": "code",
   "execution_count": 2,
   "id": "a56785b4",
   "metadata": {},
   "outputs": [],
   "source": [
    "import pickle"
   ]
  },
  {
   "cell_type": "code",
   "execution_count": 6,
   "id": "3576f5de",
   "metadata": {},
   "outputs": [],
   "source": [
    "with open('../../data/sample.pickle', 'rb') as f:\n",
    "    df = pickle.load(f)"
   ]
  },
  {
   "cell_type": "code",
   "execution_count": 7,
   "id": "f5dbed93",
   "metadata": {},
   "outputs": [
    {
     "data": {
      "text/html": [
       "<div>\n",
       "<style scoped>\n",
       "    .dataframe tbody tr th:only-of-type {\n",
       "        vertical-align: middle;\n",
       "    }\n",
       "\n",
       "    .dataframe tbody tr th {\n",
       "        vertical-align: top;\n",
       "    }\n",
       "\n",
       "    .dataframe thead th {\n",
       "        text-align: right;\n",
       "    }\n",
       "</style>\n",
       "<table border=\"1\" class=\"dataframe\">\n",
       "  <thead>\n",
       "    <tr style=\"text-align: right;\">\n",
       "      <th></th>\n",
       "      <th>value</th>\n",
       "    </tr>\n",
       "  </thead>\n",
       "  <tbody>\n",
       "    <tr>\n",
       "      <th>0</th>\n",
       "      <td>123</td>\n",
       "    </tr>\n",
       "    <tr>\n",
       "      <th>1</th>\n",
       "      <td>123</td>\n",
       "    </tr>\n",
       "    <tr>\n",
       "      <th>2</th>\n",
       "      <td>123</td>\n",
       "    </tr>\n",
       "    <tr>\n",
       "      <th>3</th>\n",
       "      <td>asdf</td>\n",
       "    </tr>\n",
       "    <tr>\n",
       "      <th>4</th>\n",
       "      <td>아리랑</td>\n",
       "    </tr>\n",
       "  </tbody>\n",
       "</table>\n",
       "</div>"
      ],
      "text/plain": [
       "  value\n",
       "0   123\n",
       "1   123\n",
       "2   123\n",
       "3  asdf\n",
       "4   아리랑"
      ]
     },
     "execution_count": 7,
     "metadata": {},
     "output_type": "execute_result"
    }
   ],
   "source": [
    "df.head()"
   ]
  },
  {
   "cell_type": "markdown",
   "id": "5e16bf8f",
   "metadata": {},
   "source": [
    "# "
   ]
  },
  {
   "cell_type": "markdown",
   "id": "dbbc6d61",
   "metadata": {},
   "source": [
    "# *set 중복 제거*"
   ]
  },
  {
   "cell_type": "code",
   "execution_count": 5,
   "id": "037101f9",
   "metadata": {},
   "outputs": [],
   "source": [
    "category_list = list(set(df.category_name_str.values.tolist()))"
   ]
  },
  {
   "cell_type": "code",
   "execution_count": 6,
   "id": "58220b08",
   "metadata": {},
   "outputs": [
    {
     "data": {
      "text/plain": [
       "[' ',\n",
       " 'O2O, 이동수단',\n",
       " 'etc',\n",
       " '개발',\n",
       " '개발, 경제',\n",
       " '개발, 과학',\n",
       " '개발, 통신',\n",
       " '경제',\n",
       " '경제, 식품',\n",
       " '경제, 에너지']"
      ]
     },
     "execution_count": 6,
     "metadata": {},
     "output_type": "execute_result"
    }
   ],
   "source": [
    "category_list.sort()\n",
    "category_list[:10]"
   ]
  },
  {
   "cell_type": "markdown",
   "id": "0bfbd14c",
   "metadata": {},
   "source": [
    "# "
   ]
  },
  {
   "cell_type": "markdown",
   "id": "48f6c910",
   "metadata": {},
   "source": [
    "# *특수문자 제거*"
   ]
  },
  {
   "cell_type": "code",
   "execution_count": 7,
   "id": "65d245d3",
   "metadata": {},
   "outputs": [],
   "source": [
    "import re"
   ]
  },
  {
   "cell_type": "code",
   "execution_count": 8,
   "id": "f862b4bc",
   "metadata": {},
   "outputs": [],
   "source": [
    "category_list = [re.sub(r'\\([^]]*\\)', '', category) for category in category_list if len(category) > 0]"
   ]
  },
  {
   "cell_type": "code",
   "execution_count": 9,
   "id": "d023e100",
   "metadata": {},
   "outputs": [
    {
     "data": {
      "text/plain": [
       "[' ',\n",
       " 'O2O, 이동수단',\n",
       " 'etc',\n",
       " '개발',\n",
       " '개발, 경제',\n",
       " '개발, 과학',\n",
       " '개발, 통신',\n",
       " '경제',\n",
       " '경제, 식품',\n",
       " '경제, 에너지']"
      ]
     },
     "execution_count": 9,
     "metadata": {},
     "output_type": "execute_result"
    }
   ],
   "source": [
    "category_list[:10]"
   ]
  },
  {
   "cell_type": "markdown",
   "id": "e141b7b6",
   "metadata": {},
   "source": [
    "# "
   ]
  },
  {
   "cell_type": "markdown",
   "id": "6f364c2d",
   "metadata": {},
   "source": [
    "# *빈칸 찾기*"
   ]
  },
  {
   "cell_type": "code",
   "execution_count": 11,
   "id": "5881dd67",
   "metadata": {},
   "outputs": [
    {
     "data": {
      "text/plain": [
       "0"
      ]
     },
     "execution_count": 11,
     "metadata": {},
     "output_type": "execute_result"
    }
   ],
   "source": [
    "# true, false\n",
    "# sum 갯수\n",
    "df.category_name_str.apply(lambda x: x.startswith(\" \")).sum()"
   ]
  },
  {
   "cell_type": "code",
   "execution_count": 12,
   "id": "684eb4ba",
   "metadata": {},
   "outputs": [
    {
     "data": {
      "text/html": [
       "<div>\n",
       "<style scoped>\n",
       "    .dataframe tbody tr th:only-of-type {\n",
       "        vertical-align: middle;\n",
       "    }\n",
       "\n",
       "    .dataframe tbody tr th {\n",
       "        vertical-align: top;\n",
       "    }\n",
       "\n",
       "    .dataframe thead th {\n",
       "        text-align: right;\n",
       "    }\n",
       "</style>\n",
       "<table border=\"1\" class=\"dataframe\">\n",
       "  <thead>\n",
       "    <tr style=\"text-align: right;\">\n",
       "      <th></th>\n",
       "      <th>id</th>\n",
       "      <th>content</th>\n",
       "      <th>category_name_str</th>\n",
       "    </tr>\n",
       "  </thead>\n",
       "  <tbody>\n",
       "  </tbody>\n",
       "</table>\n",
       "</div>"
      ],
      "text/plain": [
       "Empty DataFrame\n",
       "Columns: [id, content, category_name_str]\n",
       "Index: []"
      ]
     },
     "execution_count": 12,
     "metadata": {},
     "output_type": "execute_result"
    }
   ],
   "source": [
    "df[df.category_name_str.apply(lambda x: x.startswith(\" \"))]"
   ]
  },
  {
   "cell_type": "code",
   "execution_count": 13,
   "id": "ba424e74",
   "metadata": {},
   "outputs": [
    {
     "data": {
      "text/plain": [
       "(1000, 3)"
      ]
     },
     "execution_count": 13,
     "metadata": {},
     "output_type": "execute_result"
    }
   ],
   "source": [
    "df.shape"
   ]
  },
  {
   "cell_type": "code",
   "execution_count": 10,
   "id": "c418006f",
   "metadata": {},
   "outputs": [
    {
     "name": "stdout",
     "output_type": "stream",
     "text": [
      "Int64Index([1000], dtype='int64')\n"
     ]
    }
   ],
   "source": [
    "# 데이터 제거\n",
    "index = df[df.category_name_str.apply(lambda x: x.startswith(\" \"))].index\n",
    "print(index)\n",
    "df.drop(index, inplace=True)"
   ]
  },
  {
   "cell_type": "markdown",
   "id": "a2d6a6d6",
   "metadata": {},
   "source": [
    "# "
   ]
  },
  {
   "cell_type": "markdown",
   "id": "f4620666",
   "metadata": {},
   "source": [
    "# *중복 찾기*"
   ]
  },
  {
   "cell_type": "code",
   "execution_count": 17,
   "id": "39955562",
   "metadata": {},
   "outputs": [
    {
     "data": {
      "text/plain": [
       "0"
      ]
     },
     "execution_count": 17,
     "metadata": {},
     "output_type": "execute_result"
    }
   ],
   "source": [
    "df.duplicated().sum()"
   ]
  },
  {
   "cell_type": "code",
   "execution_count": null,
   "id": "dab6eabd",
   "metadata": {},
   "outputs": [],
   "source": [
    "df.drop_duplicates()"
   ]
  },
  {
   "cell_type": "code",
   "execution_count": 15,
   "id": "69dc39c9",
   "metadata": {},
   "outputs": [
    {
     "data": {
      "text/plain": [
       "(1001, 3)"
      ]
     },
     "execution_count": 15,
     "metadata": {},
     "output_type": "execute_result"
    }
   ],
   "source": [
    "df.shape"
   ]
  },
  {
   "cell_type": "markdown",
   "id": "9d5c3fa4",
   "metadata": {},
   "source": [
    "# "
   ]
  },
  {
   "cell_type": "markdown",
   "id": "bfcabf98",
   "metadata": {},
   "source": [
    "# *2차원 list -> 1차원 list*"
   ]
  },
  {
   "cell_type": "code",
   "execution_count": 10,
   "id": "1af2f1df",
   "metadata": {},
   "outputs": [],
   "source": [
    "test_list = []\n",
    "test_list.append(category_list)"
   ]
  },
  {
   "cell_type": "code",
   "execution_count": 12,
   "id": "8ed3c58f",
   "metadata": {},
   "outputs": [],
   "source": [
    "test_list = sum(test_list, [])"
   ]
  },
  {
   "cell_type": "code",
   "execution_count": 14,
   "id": "1c2dd62a",
   "metadata": {},
   "outputs": [
    {
     "data": {
      "text/plain": [
       "[' ',\n",
       " 'O2O, 이동수단',\n",
       " 'etc',\n",
       " '개발',\n",
       " '개발, 경제',\n",
       " '개발, 과학',\n",
       " '개발, 통신',\n",
       " '경제',\n",
       " '경제, 식품',\n",
       " '경제, 에너지']"
      ]
     },
     "execution_count": 14,
     "metadata": {},
     "output_type": "execute_result"
    }
   ],
   "source": [
    "test_list[:10]"
   ]
  },
  {
   "cell_type": "markdown",
   "id": "33a669bf",
   "metadata": {},
   "source": [
    "# "
   ]
  },
  {
   "cell_type": "markdown",
   "id": "bba7bac2",
   "metadata": {},
   "source": [
    "# *조건부 삭제*"
   ]
  },
  {
   "cell_type": "code",
   "execution_count": null,
   "id": "a8835ad4",
   "metadata": {},
   "outputs": [],
   "source": [
    "# 길이 50 이하 제거\n",
    "df = df[df.content.apply(lambda x: len(str(x))>=50)]"
   ]
  },
  {
   "cell_type": "markdown",
   "id": "9d39037c",
   "metadata": {},
   "source": [
    "# "
   ]
  },
  {
   "cell_type": "markdown",
   "id": "db3932d2",
   "metadata": {},
   "source": [
    "# *replace*"
   ]
  },
  {
   "cell_type": "code",
   "execution_count": 5,
   "id": "8ed4d41a",
   "metadata": {},
   "outputs": [
    {
     "data": {
      "text/html": [
       "<div>\n",
       "<style scoped>\n",
       "    .dataframe tbody tr th:only-of-type {\n",
       "        vertical-align: middle;\n",
       "    }\n",
       "\n",
       "    .dataframe tbody tr th {\n",
       "        vertical-align: top;\n",
       "    }\n",
       "\n",
       "    .dataframe thead th {\n",
       "        text-align: right;\n",
       "    }\n",
       "</style>\n",
       "<table border=\"1\" class=\"dataframe\">\n",
       "  <thead>\n",
       "    <tr style=\"text-align: right;\">\n",
       "      <th></th>\n",
       "      <th>id</th>\n",
       "      <th>content</th>\n",
       "      <th>category_name_str</th>\n",
       "    </tr>\n",
       "  </thead>\n",
       "  <tbody>\n",
       "    <tr>\n",
       "      <th>0</th>\n",
       "      <td>0</td>\n",
       "      <td>김영환 전 더불어민주당 의원은 16일 문재인 정부의 탈원전 정책에 대해 과학적으로 ...</td>\n",
       "      <td>에너지</td>\n",
       "    </tr>\n",
       "    <tr>\n",
       "      <th>1</th>\n",
       "      <td>1</td>\n",
       "      <td>올해 2분기 주요 아티스트들의 대거 복귀를 앞두고 엔터주 주가가 꿈틀거리고 있다 앞...</td>\n",
       "      <td>미디어, 경제</td>\n",
       "    </tr>\n",
       "    <tr>\n",
       "      <th>2</th>\n",
       "      <td>2</td>\n",
       "      <td>더불어민주당 부동산특위는 오늘 국회에서 서울지역 구청장들과 간담회를 하고 부동산 현...</td>\n",
       "      <td>부동산</td>\n",
       "    </tr>\n",
       "    <tr>\n",
       "      <th>3</th>\n",
       "      <td>3</td>\n",
       "      <td>지난 12일 내년 대통령선거 출마를 공식선언한 양승조 충남지사가 16일부터 2박3일...</td>\n",
       "      <td>etc</td>\n",
       "    </tr>\n",
       "    <tr>\n",
       "      <th>4</th>\n",
       "      <td>4</td>\n",
       "      <td>서동균이 결혼한 가운데 박준형이 참석 인증샷을 공개했다박준형은 15일 자신의 인스타...</td>\n",
       "      <td>etc</td>\n",
       "    </tr>\n",
       "  </tbody>\n",
       "</table>\n",
       "</div>"
      ],
      "text/plain": [
       "  id                                            content category_name_str\n",
       "0  0  김영환 전 더불어민주당 의원은 16일 문재인 정부의 탈원전 정책에 대해 과학적으로 ...               에너지\n",
       "1  1  올해 2분기 주요 아티스트들의 대거 복귀를 앞두고 엔터주 주가가 꿈틀거리고 있다 앞...           미디어, 경제\n",
       "2  2  더불어민주당 부동산특위는 오늘 국회에서 서울지역 구청장들과 간담회를 하고 부동산 현...               부동산\n",
       "3  3  지난 12일 내년 대통령선거 출마를 공식선언한 양승조 충남지사가 16일부터 2박3일...               etc\n",
       "4  4  서동균이 결혼한 가운데 박준형이 참석 인증샷을 공개했다박준형은 15일 자신의 인스타...               etc"
      ]
     },
     "execution_count": 5,
     "metadata": {},
     "output_type": "execute_result"
    }
   ],
   "source": [
    "df.head()"
   ]
  },
  {
   "cell_type": "code",
   "execution_count": 6,
   "id": "845fcb43",
   "metadata": {},
   "outputs": [],
   "source": [
    "df['category'] = df.category_name_str.replace('etc', 'etcc')"
   ]
  },
  {
   "cell_type": "code",
   "execution_count": 7,
   "id": "035bdcac",
   "metadata": {},
   "outputs": [
    {
     "data": {
      "text/html": [
       "<div>\n",
       "<style scoped>\n",
       "    .dataframe tbody tr th:only-of-type {\n",
       "        vertical-align: middle;\n",
       "    }\n",
       "\n",
       "    .dataframe tbody tr th {\n",
       "        vertical-align: top;\n",
       "    }\n",
       "\n",
       "    .dataframe thead th {\n",
       "        text-align: right;\n",
       "    }\n",
       "</style>\n",
       "<table border=\"1\" class=\"dataframe\">\n",
       "  <thead>\n",
       "    <tr style=\"text-align: right;\">\n",
       "      <th></th>\n",
       "      <th>id</th>\n",
       "      <th>content</th>\n",
       "      <th>category_name_str</th>\n",
       "      <th>category</th>\n",
       "    </tr>\n",
       "  </thead>\n",
       "  <tbody>\n",
       "    <tr>\n",
       "      <th>0</th>\n",
       "      <td>0</td>\n",
       "      <td>김영환 전 더불어민주당 의원은 16일 문재인 정부의 탈원전 정책에 대해 과학적으로 ...</td>\n",
       "      <td>에너지</td>\n",
       "      <td>에너지</td>\n",
       "    </tr>\n",
       "    <tr>\n",
       "      <th>1</th>\n",
       "      <td>1</td>\n",
       "      <td>올해 2분기 주요 아티스트들의 대거 복귀를 앞두고 엔터주 주가가 꿈틀거리고 있다 앞...</td>\n",
       "      <td>미디어, 경제</td>\n",
       "      <td>미디어, 경제</td>\n",
       "    </tr>\n",
       "    <tr>\n",
       "      <th>2</th>\n",
       "      <td>2</td>\n",
       "      <td>더불어민주당 부동산특위는 오늘 국회에서 서울지역 구청장들과 간담회를 하고 부동산 현...</td>\n",
       "      <td>부동산</td>\n",
       "      <td>부동산</td>\n",
       "    </tr>\n",
       "    <tr>\n",
       "      <th>3</th>\n",
       "      <td>3</td>\n",
       "      <td>지난 12일 내년 대통령선거 출마를 공식선언한 양승조 충남지사가 16일부터 2박3일...</td>\n",
       "      <td>etc</td>\n",
       "      <td>etcc</td>\n",
       "    </tr>\n",
       "    <tr>\n",
       "      <th>4</th>\n",
       "      <td>4</td>\n",
       "      <td>서동균이 결혼한 가운데 박준형이 참석 인증샷을 공개했다박준형은 15일 자신의 인스타...</td>\n",
       "      <td>etc</td>\n",
       "      <td>etcc</td>\n",
       "    </tr>\n",
       "  </tbody>\n",
       "</table>\n",
       "</div>"
      ],
      "text/plain": [
       "  id                                            content category_name_str  \\\n",
       "0  0  김영환 전 더불어민주당 의원은 16일 문재인 정부의 탈원전 정책에 대해 과학적으로 ...               에너지   \n",
       "1  1  올해 2분기 주요 아티스트들의 대거 복귀를 앞두고 엔터주 주가가 꿈틀거리고 있다 앞...           미디어, 경제   \n",
       "2  2  더불어민주당 부동산특위는 오늘 국회에서 서울지역 구청장들과 간담회를 하고 부동산 현...               부동산   \n",
       "3  3  지난 12일 내년 대통령선거 출마를 공식선언한 양승조 충남지사가 16일부터 2박3일...               etc   \n",
       "4  4  서동균이 결혼한 가운데 박준형이 참석 인증샷을 공개했다박준형은 15일 자신의 인스타...               etc   \n",
       "\n",
       "  category  \n",
       "0      에너지  \n",
       "1  미디어, 경제  \n",
       "2      부동산  \n",
       "3     etcc  \n",
       "4     etcc  "
      ]
     },
     "execution_count": 7,
     "metadata": {},
     "output_type": "execute_result"
    }
   ],
   "source": [
    "df.head()"
   ]
  },
  {
   "cell_type": "code",
   "execution_count": 18,
   "id": "4f180226",
   "metadata": {},
   "outputs": [],
   "source": [
    "df['catogory2'] = df.category_name_str.apply(lambda x: x.replace(', ', '; '))"
   ]
  },
  {
   "cell_type": "code",
   "execution_count": 19,
   "id": "35845c1d",
   "metadata": {},
   "outputs": [
    {
     "data": {
      "text/html": [
       "<div>\n",
       "<style scoped>\n",
       "    .dataframe tbody tr th:only-of-type {\n",
       "        vertical-align: middle;\n",
       "    }\n",
       "\n",
       "    .dataframe tbody tr th {\n",
       "        vertical-align: top;\n",
       "    }\n",
       "\n",
       "    .dataframe thead th {\n",
       "        text-align: right;\n",
       "    }\n",
       "</style>\n",
       "<table border=\"1\" class=\"dataframe\">\n",
       "  <thead>\n",
       "    <tr style=\"text-align: right;\">\n",
       "      <th></th>\n",
       "      <th>id</th>\n",
       "      <th>content</th>\n",
       "      <th>category_name_str</th>\n",
       "      <th>category</th>\n",
       "      <th>catogory2</th>\n",
       "    </tr>\n",
       "  </thead>\n",
       "  <tbody>\n",
       "    <tr>\n",
       "      <th>0</th>\n",
       "      <td>0</td>\n",
       "      <td>김영환 전 더불어민주당 의원은 16일 문재인 정부의 탈원전 정책에 대해 과학적으로 ...</td>\n",
       "      <td>에너지</td>\n",
       "      <td>에너지</td>\n",
       "      <td>에너지</td>\n",
       "    </tr>\n",
       "    <tr>\n",
       "      <th>1</th>\n",
       "      <td>1</td>\n",
       "      <td>올해 2분기 주요 아티스트들의 대거 복귀를 앞두고 엔터주 주가가 꿈틀거리고 있다 앞...</td>\n",
       "      <td>미디어, 경제</td>\n",
       "      <td>미디어, 경제</td>\n",
       "      <td>미디어; 경제</td>\n",
       "    </tr>\n",
       "    <tr>\n",
       "      <th>2</th>\n",
       "      <td>2</td>\n",
       "      <td>더불어민주당 부동산특위는 오늘 국회에서 서울지역 구청장들과 간담회를 하고 부동산 현...</td>\n",
       "      <td>부동산</td>\n",
       "      <td>부동산</td>\n",
       "      <td>부동산</td>\n",
       "    </tr>\n",
       "    <tr>\n",
       "      <th>3</th>\n",
       "      <td>3</td>\n",
       "      <td>지난 12일 내년 대통령선거 출마를 공식선언한 양승조 충남지사가 16일부터 2박3일...</td>\n",
       "      <td>etc</td>\n",
       "      <td>etcc</td>\n",
       "      <td>etc</td>\n",
       "    </tr>\n",
       "    <tr>\n",
       "      <th>4</th>\n",
       "      <td>4</td>\n",
       "      <td>서동균이 결혼한 가운데 박준형이 참석 인증샷을 공개했다박준형은 15일 자신의 인스타...</td>\n",
       "      <td>etc</td>\n",
       "      <td>etcc</td>\n",
       "      <td>etc</td>\n",
       "    </tr>\n",
       "  </tbody>\n",
       "</table>\n",
       "</div>"
      ],
      "text/plain": [
       "  id                                            content category_name_str  \\\n",
       "0  0  김영환 전 더불어민주당 의원은 16일 문재인 정부의 탈원전 정책에 대해 과학적으로 ...               에너지   \n",
       "1  1  올해 2분기 주요 아티스트들의 대거 복귀를 앞두고 엔터주 주가가 꿈틀거리고 있다 앞...           미디어, 경제   \n",
       "2  2  더불어민주당 부동산특위는 오늘 국회에서 서울지역 구청장들과 간담회를 하고 부동산 현...               부동산   \n",
       "3  3  지난 12일 내년 대통령선거 출마를 공식선언한 양승조 충남지사가 16일부터 2박3일...               etc   \n",
       "4  4  서동균이 결혼한 가운데 박준형이 참석 인증샷을 공개했다박준형은 15일 자신의 인스타...               etc   \n",
       "\n",
       "  category catogory2  \n",
       "0      에너지       에너지  \n",
       "1  미디어, 경제   미디어; 경제  \n",
       "2      부동산       부동산  \n",
       "3     etcc       etc  \n",
       "4     etcc       etc  "
      ]
     },
     "execution_count": 19,
     "metadata": {},
     "output_type": "execute_result"
    }
   ],
   "source": [
    "df.head()"
   ]
  },
  {
   "cell_type": "markdown",
   "id": "3b657dda",
   "metadata": {},
   "source": [
    "# "
   ]
  },
  {
   "cell_type": "markdown",
   "id": "beabb10f",
   "metadata": {},
   "source": [
    "# *data merge*"
   ]
  },
  {
   "cell_type": "code",
   "execution_count": 8,
   "id": "b0fcd275",
   "metadata": {},
   "outputs": [
    {
     "data": {
      "text/html": [
       "<div>\n",
       "<style scoped>\n",
       "    .dataframe tbody tr th:only-of-type {\n",
       "        vertical-align: middle;\n",
       "    }\n",
       "\n",
       "    .dataframe tbody tr th {\n",
       "        vertical-align: top;\n",
       "    }\n",
       "\n",
       "    .dataframe thead th {\n",
       "        text-align: right;\n",
       "    }\n",
       "</style>\n",
       "<table border=\"1\" class=\"dataframe\">\n",
       "  <thead>\n",
       "    <tr style=\"text-align: right;\">\n",
       "      <th></th>\n",
       "      <th>id</th>\n",
       "      <th>content</th>\n",
       "      <th>category_name_str</th>\n",
       "      <th>category</th>\n",
       "    </tr>\n",
       "  </thead>\n",
       "  <tbody>\n",
       "    <tr>\n",
       "      <th>0</th>\n",
       "      <td>0</td>\n",
       "      <td>김영환 전 더불어민주당 의원은 16일 문재인 정부의 탈원전 정책에 대해 과학적으로 ...</td>\n",
       "      <td>에너지</td>\n",
       "      <td>에너지</td>\n",
       "    </tr>\n",
       "    <tr>\n",
       "      <th>1</th>\n",
       "      <td>1</td>\n",
       "      <td>올해 2분기 주요 아티스트들의 대거 복귀를 앞두고 엔터주 주가가 꿈틀거리고 있다 앞...</td>\n",
       "      <td>미디어, 경제</td>\n",
       "      <td>미디어; 경제</td>\n",
       "    </tr>\n",
       "    <tr>\n",
       "      <th>2</th>\n",
       "      <td>2</td>\n",
       "      <td>더불어민주당 부동산특위는 오늘 국회에서 서울지역 구청장들과 간담회를 하고 부동산 현...</td>\n",
       "      <td>부동산</td>\n",
       "      <td>부동산</td>\n",
       "    </tr>\n",
       "    <tr>\n",
       "      <th>3</th>\n",
       "      <td>3</td>\n",
       "      <td>지난 12일 내년 대통령선거 출마를 공식선언한 양승조 충남지사가 16일부터 2박3일...</td>\n",
       "      <td>etc</td>\n",
       "      <td>etc</td>\n",
       "    </tr>\n",
       "    <tr>\n",
       "      <th>4</th>\n",
       "      <td>4</td>\n",
       "      <td>서동균이 결혼한 가운데 박준형이 참석 인증샷을 공개했다박준형은 15일 자신의 인스타...</td>\n",
       "      <td>etc</td>\n",
       "      <td>etc</td>\n",
       "    </tr>\n",
       "  </tbody>\n",
       "</table>\n",
       "</div>"
      ],
      "text/plain": [
       "  id                                            content category_name_str  \\\n",
       "0  0  김영환 전 더불어민주당 의원은 16일 문재인 정부의 탈원전 정책에 대해 과학적으로 ...               에너지   \n",
       "1  1  올해 2분기 주요 아티스트들의 대거 복귀를 앞두고 엔터주 주가가 꿈틀거리고 있다 앞...           미디어, 경제   \n",
       "2  2  더불어민주당 부동산특위는 오늘 국회에서 서울지역 구청장들과 간담회를 하고 부동산 현...               부동산   \n",
       "3  3  지난 12일 내년 대통령선거 출마를 공식선언한 양승조 충남지사가 16일부터 2박3일...               etc   \n",
       "4  4  서동균이 결혼한 가운데 박준형이 참석 인증샷을 공개했다박준형은 15일 자신의 인스타...               etc   \n",
       "\n",
       "  category  \n",
       "0      에너지  \n",
       "1  미디어; 경제  \n",
       "2      부동산  \n",
       "3      etc  \n",
       "4      etc  "
      ]
     },
     "execution_count": 8,
     "metadata": {},
     "output_type": "execute_result"
    }
   ],
   "source": [
    "df.head()"
   ]
  },
  {
   "cell_type": "code",
   "execution_count": 9,
   "id": "4e8388a2",
   "metadata": {},
   "outputs": [],
   "source": [
    "df2 = df[['id', 'category_name_str']]\n",
    "df2 = pd.DataFrame(df2)"
   ]
  },
  {
   "cell_type": "code",
   "execution_count": 10,
   "id": "ca2839dd",
   "metadata": {},
   "outputs": [],
   "source": [
    "df = df[['id', 'content']]"
   ]
  },
  {
   "cell_type": "code",
   "execution_count": 11,
   "id": "66249c83",
   "metadata": {},
   "outputs": [
    {
     "data": {
      "text/html": [
       "<div>\n",
       "<style scoped>\n",
       "    .dataframe tbody tr th:only-of-type {\n",
       "        vertical-align: middle;\n",
       "    }\n",
       "\n",
       "    .dataframe tbody tr th {\n",
       "        vertical-align: top;\n",
       "    }\n",
       "\n",
       "    .dataframe thead th {\n",
       "        text-align: right;\n",
       "    }\n",
       "</style>\n",
       "<table border=\"1\" class=\"dataframe\">\n",
       "  <thead>\n",
       "    <tr style=\"text-align: right;\">\n",
       "      <th></th>\n",
       "      <th>id</th>\n",
       "      <th>content</th>\n",
       "    </tr>\n",
       "  </thead>\n",
       "  <tbody>\n",
       "    <tr>\n",
       "      <th>0</th>\n",
       "      <td>0</td>\n",
       "      <td>김영환 전 더불어민주당 의원은 16일 문재인 정부의 탈원전 정책에 대해 과학적으로 ...</td>\n",
       "    </tr>\n",
       "    <tr>\n",
       "      <th>1</th>\n",
       "      <td>1</td>\n",
       "      <td>올해 2분기 주요 아티스트들의 대거 복귀를 앞두고 엔터주 주가가 꿈틀거리고 있다 앞...</td>\n",
       "    </tr>\n",
       "    <tr>\n",
       "      <th>2</th>\n",
       "      <td>2</td>\n",
       "      <td>더불어민주당 부동산특위는 오늘 국회에서 서울지역 구청장들과 간담회를 하고 부동산 현...</td>\n",
       "    </tr>\n",
       "    <tr>\n",
       "      <th>3</th>\n",
       "      <td>3</td>\n",
       "      <td>지난 12일 내년 대통령선거 출마를 공식선언한 양승조 충남지사가 16일부터 2박3일...</td>\n",
       "    </tr>\n",
       "    <tr>\n",
       "      <th>4</th>\n",
       "      <td>4</td>\n",
       "      <td>서동균이 결혼한 가운데 박준형이 참석 인증샷을 공개했다박준형은 15일 자신의 인스타...</td>\n",
       "    </tr>\n",
       "  </tbody>\n",
       "</table>\n",
       "</div>"
      ],
      "text/plain": [
       "  id                                            content\n",
       "0  0  김영환 전 더불어민주당 의원은 16일 문재인 정부의 탈원전 정책에 대해 과학적으로 ...\n",
       "1  1  올해 2분기 주요 아티스트들의 대거 복귀를 앞두고 엔터주 주가가 꿈틀거리고 있다 앞...\n",
       "2  2  더불어민주당 부동산특위는 오늘 국회에서 서울지역 구청장들과 간담회를 하고 부동산 현...\n",
       "3  3  지난 12일 내년 대통령선거 출마를 공식선언한 양승조 충남지사가 16일부터 2박3일...\n",
       "4  4  서동균이 결혼한 가운데 박준형이 참석 인증샷을 공개했다박준형은 15일 자신의 인스타..."
      ]
     },
     "execution_count": 11,
     "metadata": {},
     "output_type": "execute_result"
    }
   ],
   "source": [
    "df.head()"
   ]
  },
  {
   "cell_type": "code",
   "execution_count": 12,
   "id": "ead49029",
   "metadata": {},
   "outputs": [
    {
     "data": {
      "text/html": [
       "<div>\n",
       "<style scoped>\n",
       "    .dataframe tbody tr th:only-of-type {\n",
       "        vertical-align: middle;\n",
       "    }\n",
       "\n",
       "    .dataframe tbody tr th {\n",
       "        vertical-align: top;\n",
       "    }\n",
       "\n",
       "    .dataframe thead th {\n",
       "        text-align: right;\n",
       "    }\n",
       "</style>\n",
       "<table border=\"1\" class=\"dataframe\">\n",
       "  <thead>\n",
       "    <tr style=\"text-align: right;\">\n",
       "      <th></th>\n",
       "      <th>id</th>\n",
       "      <th>category_name_str</th>\n",
       "    </tr>\n",
       "  </thead>\n",
       "  <tbody>\n",
       "    <tr>\n",
       "      <th>0</th>\n",
       "      <td>0</td>\n",
       "      <td>에너지</td>\n",
       "    </tr>\n",
       "    <tr>\n",
       "      <th>1</th>\n",
       "      <td>1</td>\n",
       "      <td>미디어, 경제</td>\n",
       "    </tr>\n",
       "    <tr>\n",
       "      <th>2</th>\n",
       "      <td>2</td>\n",
       "      <td>부동산</td>\n",
       "    </tr>\n",
       "    <tr>\n",
       "      <th>3</th>\n",
       "      <td>3</td>\n",
       "      <td>etc</td>\n",
       "    </tr>\n",
       "    <tr>\n",
       "      <th>4</th>\n",
       "      <td>4</td>\n",
       "      <td>etc</td>\n",
       "    </tr>\n",
       "  </tbody>\n",
       "</table>\n",
       "</div>"
      ],
      "text/plain": [
       "  id category_name_str\n",
       "0  0               에너지\n",
       "1  1           미디어, 경제\n",
       "2  2               부동산\n",
       "3  3               etc\n",
       "4  4               etc"
      ]
     },
     "execution_count": 12,
     "metadata": {},
     "output_type": "execute_result"
    }
   ],
   "source": [
    "df2.head()"
   ]
  },
  {
   "cell_type": "code",
   "execution_count": 15,
   "id": "0036d3c4",
   "metadata": {},
   "outputs": [],
   "source": [
    "df3 = pd.merge(df, df2, on='id')"
   ]
  },
  {
   "cell_type": "code",
   "execution_count": 18,
   "id": "68fb705d",
   "metadata": {},
   "outputs": [
    {
     "data": {
      "text/html": [
       "<div>\n",
       "<style scoped>\n",
       "    .dataframe tbody tr th:only-of-type {\n",
       "        vertical-align: middle;\n",
       "    }\n",
       "\n",
       "    .dataframe tbody tr th {\n",
       "        vertical-align: top;\n",
       "    }\n",
       "\n",
       "    .dataframe thead th {\n",
       "        text-align: right;\n",
       "    }\n",
       "</style>\n",
       "<table border=\"1\" class=\"dataframe\">\n",
       "  <thead>\n",
       "    <tr style=\"text-align: right;\">\n",
       "      <th></th>\n",
       "      <th>id</th>\n",
       "      <th>content</th>\n",
       "      <th>category_name_str</th>\n",
       "    </tr>\n",
       "  </thead>\n",
       "  <tbody>\n",
       "    <tr>\n",
       "      <th>0</th>\n",
       "      <td>0</td>\n",
       "      <td>김영환 전 더불어민주당 의원은 16일 문재인 정부의 탈원전 정책에 대해 과학적으로 ...</td>\n",
       "      <td>에너지</td>\n",
       "    </tr>\n",
       "    <tr>\n",
       "      <th>1</th>\n",
       "      <td>1</td>\n",
       "      <td>올해 2분기 주요 아티스트들의 대거 복귀를 앞두고 엔터주 주가가 꿈틀거리고 있다 앞...</td>\n",
       "      <td>미디어, 경제</td>\n",
       "    </tr>\n",
       "    <tr>\n",
       "      <th>2</th>\n",
       "      <td>2</td>\n",
       "      <td>더불어민주당 부동산특위는 오늘 국회에서 서울지역 구청장들과 간담회를 하고 부동산 현...</td>\n",
       "      <td>부동산</td>\n",
       "    </tr>\n",
       "    <tr>\n",
       "      <th>3</th>\n",
       "      <td>3</td>\n",
       "      <td>지난 12일 내년 대통령선거 출마를 공식선언한 양승조 충남지사가 16일부터 2박3일...</td>\n",
       "      <td>etc</td>\n",
       "    </tr>\n",
       "    <tr>\n",
       "      <th>4</th>\n",
       "      <td>4</td>\n",
       "      <td>서동균이 결혼한 가운데 박준형이 참석 인증샷을 공개했다박준형은 15일 자신의 인스타...</td>\n",
       "      <td>etc</td>\n",
       "    </tr>\n",
       "  </tbody>\n",
       "</table>\n",
       "</div>"
      ],
      "text/plain": [
       "  id                                            content category_name_str\n",
       "0  0  김영환 전 더불어민주당 의원은 16일 문재인 정부의 탈원전 정책에 대해 과학적으로 ...               에너지\n",
       "1  1  올해 2분기 주요 아티스트들의 대거 복귀를 앞두고 엔터주 주가가 꿈틀거리고 있다 앞...           미디어, 경제\n",
       "2  2  더불어민주당 부동산특위는 오늘 국회에서 서울지역 구청장들과 간담회를 하고 부동산 현...               부동산\n",
       "3  3  지난 12일 내년 대통령선거 출마를 공식선언한 양승조 충남지사가 16일부터 2박3일...               etc\n",
       "4  4  서동균이 결혼한 가운데 박준형이 참석 인증샷을 공개했다박준형은 15일 자신의 인스타...               etc"
      ]
     },
     "execution_count": 18,
     "metadata": {},
     "output_type": "execute_result"
    }
   ],
   "source": [
    "df3.head()"
   ]
  },
  {
   "cell_type": "markdown",
   "id": "75232ef5",
   "metadata": {},
   "source": [
    "# "
   ]
  },
  {
   "cell_type": "markdown",
   "id": "c76b805b",
   "metadata": {},
   "source": [
    "# *swifter*"
   ]
  },
  {
   "cell_type": "markdown",
   "id": "e89a32af",
   "metadata": {},
   "source": [
    "##### *A package which efficiently applies any function to a pandas dataframe or series in the fastest available manner*"
   ]
  },
  {
   "cell_type": "code",
   "execution_count": 5,
   "id": "a78d5d2d",
   "metadata": {},
   "outputs": [],
   "source": [
    "import swifter"
   ]
  },
  {
   "cell_type": "code",
   "execution_count": 6,
   "id": "1ba38085",
   "metadata": {},
   "outputs": [
    {
     "data": {
      "application/vnd.jupyter.widget-view+json": {
       "model_id": "22be6dab2ce640f384ae161c418d7fce",
       "version_major": 2,
       "version_minor": 0
      },
      "text/plain": [
       "Pandas Apply:   0%|          | 0/1001 [00:00<?, ?it/s]"
      ]
     },
     "metadata": {},
     "output_type": "display_data"
    }
   ],
   "source": [
    "df['category'] = df.category_name_str.swifter.apply(lambda x: x.replace(', ', '; '))"
   ]
  },
  {
   "cell_type": "code",
   "execution_count": 7,
   "id": "e58c114d",
   "metadata": {},
   "outputs": [
    {
     "data": {
      "text/html": [
       "<div>\n",
       "<style scoped>\n",
       "    .dataframe tbody tr th:only-of-type {\n",
       "        vertical-align: middle;\n",
       "    }\n",
       "\n",
       "    .dataframe tbody tr th {\n",
       "        vertical-align: top;\n",
       "    }\n",
       "\n",
       "    .dataframe thead th {\n",
       "        text-align: right;\n",
       "    }\n",
       "</style>\n",
       "<table border=\"1\" class=\"dataframe\">\n",
       "  <thead>\n",
       "    <tr style=\"text-align: right;\">\n",
       "      <th></th>\n",
       "      <th>id</th>\n",
       "      <th>content</th>\n",
       "      <th>category_name_str</th>\n",
       "      <th>category</th>\n",
       "    </tr>\n",
       "  </thead>\n",
       "  <tbody>\n",
       "    <tr>\n",
       "      <th>0</th>\n",
       "      <td>0</td>\n",
       "      <td>김영환 전 더불어민주당 의원은 16일 문재인 정부의 탈원전 정책에 대해 과학적으로 ...</td>\n",
       "      <td>에너지</td>\n",
       "      <td>에너지</td>\n",
       "    </tr>\n",
       "    <tr>\n",
       "      <th>1</th>\n",
       "      <td>1</td>\n",
       "      <td>올해 2분기 주요 아티스트들의 대거 복귀를 앞두고 엔터주 주가가 꿈틀거리고 있다 앞...</td>\n",
       "      <td>미디어, 경제</td>\n",
       "      <td>미디어; 경제</td>\n",
       "    </tr>\n",
       "    <tr>\n",
       "      <th>2</th>\n",
       "      <td>2</td>\n",
       "      <td>더불어민주당 부동산특위는 오늘 국회에서 서울지역 구청장들과 간담회를 하고 부동산 현...</td>\n",
       "      <td>부동산</td>\n",
       "      <td>부동산</td>\n",
       "    </tr>\n",
       "    <tr>\n",
       "      <th>3</th>\n",
       "      <td>3</td>\n",
       "      <td>지난 12일 내년 대통령선거 출마를 공식선언한 양승조 충남지사가 16일부터 2박3일...</td>\n",
       "      <td>etc</td>\n",
       "      <td>etc</td>\n",
       "    </tr>\n",
       "    <tr>\n",
       "      <th>4</th>\n",
       "      <td>4</td>\n",
       "      <td>서동균이 결혼한 가운데 박준형이 참석 인증샷을 공개했다박준형은 15일 자신의 인스타...</td>\n",
       "      <td>etc</td>\n",
       "      <td>etc</td>\n",
       "    </tr>\n",
       "  </tbody>\n",
       "</table>\n",
       "</div>"
      ],
      "text/plain": [
       "  id                                            content category_name_str  \\\n",
       "0  0  김영환 전 더불어민주당 의원은 16일 문재인 정부의 탈원전 정책에 대해 과학적으로 ...               에너지   \n",
       "1  1  올해 2분기 주요 아티스트들의 대거 복귀를 앞두고 엔터주 주가가 꿈틀거리고 있다 앞...           미디어, 경제   \n",
       "2  2  더불어민주당 부동산특위는 오늘 국회에서 서울지역 구청장들과 간담회를 하고 부동산 현...               부동산   \n",
       "3  3  지난 12일 내년 대통령선거 출마를 공식선언한 양승조 충남지사가 16일부터 2박3일...               etc   \n",
       "4  4  서동균이 결혼한 가운데 박준형이 참석 인증샷을 공개했다박준형은 15일 자신의 인스타...               etc   \n",
       "\n",
       "  category  \n",
       "0      에너지  \n",
       "1  미디어; 경제  \n",
       "2      부동산  \n",
       "3      etc  \n",
       "4      etc  "
      ]
     },
     "execution_count": 7,
     "metadata": {},
     "output_type": "execute_result"
    }
   ],
   "source": [
    "df.head()"
   ]
  },
  {
   "cell_type": "markdown",
   "id": "168baade",
   "metadata": {},
   "source": [
    "# "
   ]
  },
  {
   "cell_type": "markdown",
   "id": "107f6158",
   "metadata": {},
   "source": [
    "# *describe*"
   ]
  },
  {
   "cell_type": "code",
   "execution_count": 23,
   "id": "7eede3b1",
   "metadata": {},
   "outputs": [
    {
     "name": "stdout",
     "output_type": "stream",
     "text": [
      "<class 'pandas.core.frame.DataFrame'>\n",
      "Int64Index: 1001 entries, 0 to 1000\n",
      "Data columns (total 3 columns):\n",
      " #   Column             Non-Null Count  Dtype \n",
      "---  ------             --------------  ----- \n",
      " 0   id                 1001 non-null   object\n",
      " 1   content            1001 non-null   object\n",
      " 2   category_name_str  1001 non-null   object\n",
      "dtypes: object(3)\n",
      "memory usage: 31.3+ KB\n"
     ]
    }
   ],
   "source": [
    "df3.info()"
   ]
  },
  {
   "cell_type": "code",
   "execution_count": 24,
   "id": "ab0125fd",
   "metadata": {},
   "outputs": [
    {
     "data": {
      "text/plain": [
       "Index(['id', 'content', 'category_name_str'], dtype='object')"
      ]
     },
     "execution_count": 24,
     "metadata": {},
     "output_type": "execute_result"
    }
   ],
   "source": [
    "df3.columns"
   ]
  },
  {
   "cell_type": "code",
   "execution_count": 26,
   "id": "e6cc4ae8",
   "metadata": {},
   "outputs": [
    {
     "data": {
      "text/html": [
       "<div>\n",
       "<style scoped>\n",
       "    .dataframe tbody tr th:only-of-type {\n",
       "        vertical-align: middle;\n",
       "    }\n",
       "\n",
       "    .dataframe tbody tr th {\n",
       "        vertical-align: top;\n",
       "    }\n",
       "\n",
       "    .dataframe thead th {\n",
       "        text-align: right;\n",
       "    }\n",
       "</style>\n",
       "<table border=\"1\" class=\"dataframe\">\n",
       "  <thead>\n",
       "    <tr style=\"text-align: right;\">\n",
       "      <th></th>\n",
       "      <th>id</th>\n",
       "      <th>content</th>\n",
       "      <th>category_name_str</th>\n",
       "    </tr>\n",
       "  </thead>\n",
       "  <tbody>\n",
       "    <tr>\n",
       "      <th>count</th>\n",
       "      <td>1001</td>\n",
       "      <td>1001</td>\n",
       "      <td>1001</td>\n",
       "    </tr>\n",
       "    <tr>\n",
       "      <th>unique</th>\n",
       "      <td>1001</td>\n",
       "      <td>1001</td>\n",
       "      <td>89</td>\n",
       "    </tr>\n",
       "    <tr>\n",
       "      <th>top</th>\n",
       "      <td>0</td>\n",
       "      <td>김영환 전 더불어민주당 의원은 16일 문재인 정부의 탈원전 정책에 대해 과학적으로 ...</td>\n",
       "      <td>etc</td>\n",
       "    </tr>\n",
       "    <tr>\n",
       "      <th>freq</th>\n",
       "      <td>1</td>\n",
       "      <td>1</td>\n",
       "      <td>702</td>\n",
       "    </tr>\n",
       "  </tbody>\n",
       "</table>\n",
       "</div>"
      ],
      "text/plain": [
       "          id                                            content  \\\n",
       "count   1001                                               1001   \n",
       "unique  1001                                               1001   \n",
       "top        0  김영환 전 더불어민주당 의원은 16일 문재인 정부의 탈원전 정책에 대해 과학적으로 ...   \n",
       "freq       1                                                  1   \n",
       "\n",
       "       category_name_str  \n",
       "count               1001  \n",
       "unique                89  \n",
       "top                  etc  \n",
       "freq                 702  "
      ]
     },
     "execution_count": 26,
     "metadata": {},
     "output_type": "execute_result"
    }
   ],
   "source": [
    "df3.describe()"
   ]
  },
  {
   "cell_type": "code",
   "execution_count": 27,
   "id": "3880e6ed",
   "metadata": {},
   "outputs": [
    {
     "data": {
      "text/plain": [
       "(1001, 3)"
      ]
     },
     "execution_count": 27,
     "metadata": {},
     "output_type": "execute_result"
    }
   ],
   "source": [
    "df3.shape"
   ]
  },
  {
   "cell_type": "code",
   "execution_count": 30,
   "id": "fcdba3bf",
   "metadata": {},
   "outputs": [
    {
     "data": {
      "text/html": [
       "<div>\n",
       "<style scoped>\n",
       "    .dataframe tbody tr th:only-of-type {\n",
       "        vertical-align: middle;\n",
       "    }\n",
       "\n",
       "    .dataframe tbody tr th {\n",
       "        vertical-align: top;\n",
       "    }\n",
       "\n",
       "    .dataframe thead th {\n",
       "        text-align: right;\n",
       "    }\n",
       "</style>\n",
       "<table border=\"1\" class=\"dataframe\">\n",
       "  <thead>\n",
       "    <tr style=\"text-align: right;\">\n",
       "      <th></th>\n",
       "      <th>id</th>\n",
       "      <th>content</th>\n",
       "    </tr>\n",
       "  </thead>\n",
       "  <tbody>\n",
       "    <tr>\n",
       "      <th>0</th>\n",
       "      <td>0</td>\n",
       "      <td>김영환 전 더불어민주당 의원은 16일 문재인 정부의 탈원전 정책에 대해 과학적으로 ...</td>\n",
       "    </tr>\n",
       "    <tr>\n",
       "      <th>1</th>\n",
       "      <td>1</td>\n",
       "      <td>올해 2분기 주요 아티스트들의 대거 복귀를 앞두고 엔터주 주가가 꿈틀거리고 있다 앞...</td>\n",
       "    </tr>\n",
       "    <tr>\n",
       "      <th>2</th>\n",
       "      <td>2</td>\n",
       "      <td>더불어민주당 부동산특위는 오늘 국회에서 서울지역 구청장들과 간담회를 하고 부동산 현...</td>\n",
       "    </tr>\n",
       "  </tbody>\n",
       "</table>\n",
       "</div>"
      ],
      "text/plain": [
       "  id                                            content\n",
       "0  0  김영환 전 더불어민주당 의원은 16일 문재인 정부의 탈원전 정책에 대해 과학적으로 ...\n",
       "1  1  올해 2분기 주요 아티스트들의 대거 복귀를 앞두고 엔터주 주가가 꿈틀거리고 있다 앞...\n",
       "2  2  더불어민주당 부동산특위는 오늘 국회에서 서울지역 구청장들과 간담회를 하고 부동산 현..."
      ]
     },
     "execution_count": 30,
     "metadata": {},
     "output_type": "execute_result"
    }
   ],
   "source": [
    "df.head(3)"
   ]
  },
  {
   "cell_type": "code",
   "execution_count": 31,
   "id": "23bbfd80",
   "metadata": {},
   "outputs": [
    {
     "data": {
      "text/html": [
       "<div>\n",
       "<style scoped>\n",
       "    .dataframe tbody tr th:only-of-type {\n",
       "        vertical-align: middle;\n",
       "    }\n",
       "\n",
       "    .dataframe tbody tr th {\n",
       "        vertical-align: top;\n",
       "    }\n",
       "\n",
       "    .dataframe thead th {\n",
       "        text-align: right;\n",
       "    }\n",
       "</style>\n",
       "<table border=\"1\" class=\"dataframe\">\n",
       "  <thead>\n",
       "    <tr style=\"text-align: right;\">\n",
       "      <th></th>\n",
       "      <th>id</th>\n",
       "      <th>content</th>\n",
       "    </tr>\n",
       "  </thead>\n",
       "  <tbody>\n",
       "    <tr>\n",
       "      <th>998</th>\n",
       "      <td>1130</td>\n",
       "      <td>1980년 5월 27일 우리를 잊지 말아달라 외치며 진압군에 맞서 마지막까지 전남도...</td>\n",
       "    </tr>\n",
       "    <tr>\n",
       "      <th>999</th>\n",
       "      <td>1131</td>\n",
       "      <td>지난달 청년 취업자가 18만명 가까이 증가했지만 이 중 상당수는 아르바이트와 같이 ...</td>\n",
       "    </tr>\n",
       "    <tr>\n",
       "      <th>1000</th>\n",
       "      <td>9999</td>\n",
       "      <td>content</td>\n",
       "    </tr>\n",
       "  </tbody>\n",
       "</table>\n",
       "</div>"
      ],
      "text/plain": [
       "        id                                            content\n",
       "998   1130  1980년 5월 27일 우리를 잊지 말아달라 외치며 진압군에 맞서 마지막까지 전남도...\n",
       "999   1131  지난달 청년 취업자가 18만명 가까이 증가했지만 이 중 상당수는 아르바이트와 같이 ...\n",
       "1000  9999                                            content"
      ]
     },
     "execution_count": 31,
     "metadata": {},
     "output_type": "execute_result"
    }
   ],
   "source": [
    "df.tail(3)"
   ]
  },
  {
   "cell_type": "markdown",
   "id": "efc4c5c7",
   "metadata": {},
   "source": [
    "### *sort*"
   ]
  },
  {
   "cell_type": "code",
   "execution_count": 46,
   "id": "9af3a1ef",
   "metadata": {},
   "outputs": [
    {
     "data": {
      "text/html": [
       "<div>\n",
       "<style scoped>\n",
       "    .dataframe tbody tr th:only-of-type {\n",
       "        vertical-align: middle;\n",
       "    }\n",
       "\n",
       "    .dataframe tbody tr th {\n",
       "        vertical-align: top;\n",
       "    }\n",
       "\n",
       "    .dataframe thead th {\n",
       "        text-align: right;\n",
       "    }\n",
       "</style>\n",
       "<table border=\"1\" class=\"dataframe\">\n",
       "  <thead>\n",
       "    <tr style=\"text-align: right;\">\n",
       "      <th></th>\n",
       "      <th>id</th>\n",
       "      <th>content</th>\n",
       "      <th>category_name_str</th>\n",
       "    </tr>\n",
       "  </thead>\n",
       "  <tbody>\n",
       "    <tr>\n",
       "      <th>1000</th>\n",
       "      <td>9999</td>\n",
       "      <td>content</td>\n",
       "      <td></td>\n",
       "    </tr>\n",
       "    <tr>\n",
       "      <th>622</th>\n",
       "      <td>679</td>\n",
       "      <td>네 그렇습니다택시 공유업체 디디추싱이 금융사업으로발을 넓히듯 모바일 플랫폼 기반 테...</td>\n",
       "      <td>O2O, 이동수단</td>\n",
       "    </tr>\n",
       "    <tr>\n",
       "      <th>613</th>\n",
       "      <td>668</td>\n",
       "      <td>미프로야구 탬파베이의 최지만이 무릎을 수술하고 돌아온 시즌 첫경기에서 3안타를 몰아...</td>\n",
       "      <td>etc</td>\n",
       "    </tr>\n",
       "    <tr>\n",
       "      <th>615</th>\n",
       "      <td>670</td>\n",
       "      <td>스코틀랜드 레인저스를 무패 우승으로 이끈 스티븐 제라드 감독이 레인저스에 대한 진한...</td>\n",
       "      <td>etc</td>\n",
       "    </tr>\n",
       "    <tr>\n",
       "      <th>616</th>\n",
       "      <td>671</td>\n",
       "      <td>17일 오전 1시 40분께 경기 남양주시 진접읍의 한 양초 공장에서 불이나 약 1시...</td>\n",
       "      <td>etc</td>\n",
       "    </tr>\n",
       "    <tr>\n",
       "      <th>...</th>\n",
       "      <td>...</td>\n",
       "      <td>...</td>\n",
       "      <td>...</td>\n",
       "    </tr>\n",
       "    <tr>\n",
       "      <th>842</th>\n",
       "      <td>932</td>\n",
       "      <td>과거 프랑스 중세시대 귀족 남성의 유골을 조사한 결과 한 가지 공통적인 질환의 흔적...</td>\n",
       "      <td>헬스케어</td>\n",
       "    </tr>\n",
       "    <tr>\n",
       "      <th>735</th>\n",
       "      <td>816</td>\n",
       "      <td>제2형 당뇨병은 복합적인 원인에 의해 인슐린 저항성이 증가해 발생하는 질병으로 전체...</td>\n",
       "      <td>헬스케어</td>\n",
       "    </tr>\n",
       "    <tr>\n",
       "      <th>861</th>\n",
       "      <td>953</td>\n",
       "      <td>심부전 환자의 우울증 발생률이 암 환자보다 더 높다는 연구 결과가 나왔다 심부전은 ...</td>\n",
       "      <td>헬스케어</td>\n",
       "    </tr>\n",
       "    <tr>\n",
       "      <th>645</th>\n",
       "      <td>704</td>\n",
       "      <td>성동구는 이달 말부터 로봇재활치료기기 스마트 글로브를 도입 상지기능장애가 있는 지역...</td>\n",
       "      <td>헬스케어, 로봇, 개발</td>\n",
       "    </tr>\n",
       "    <tr>\n",
       "      <th>360</th>\n",
       "      <td>386</td>\n",
       "      <td>오는 10월부터 의료기관을 개설한 의료법인  비영리법인의 근로자도 내일채움공제에 가...</td>\n",
       "      <td>헬스케어, 직업</td>\n",
       "    </tr>\n",
       "  </tbody>\n",
       "</table>\n",
       "<p>1001 rows × 3 columns</p>\n",
       "</div>"
      ],
      "text/plain": [
       "        id                                            content  \\\n",
       "1000  9999                                            content   \n",
       "622    679  네 그렇습니다택시 공유업체 디디추싱이 금융사업으로발을 넓히듯 모바일 플랫폼 기반 테...   \n",
       "613    668  미프로야구 탬파베이의 최지만이 무릎을 수술하고 돌아온 시즌 첫경기에서 3안타를 몰아...   \n",
       "615    670  스코틀랜드 레인저스를 무패 우승으로 이끈 스티븐 제라드 감독이 레인저스에 대한 진한...   \n",
       "616    671  17일 오전 1시 40분께 경기 남양주시 진접읍의 한 양초 공장에서 불이나 약 1시...   \n",
       "...    ...                                                ...   \n",
       "842    932  과거 프랑스 중세시대 귀족 남성의 유골을 조사한 결과 한 가지 공통적인 질환의 흔적...   \n",
       "735    816  제2형 당뇨병은 복합적인 원인에 의해 인슐린 저항성이 증가해 발생하는 질병으로 전체...   \n",
       "861    953  심부전 환자의 우울증 발생률이 암 환자보다 더 높다는 연구 결과가 나왔다 심부전은 ...   \n",
       "645    704  성동구는 이달 말부터 로봇재활치료기기 스마트 글로브를 도입 상지기능장애가 있는 지역...   \n",
       "360    386  오는 10월부터 의료기관을 개설한 의료법인  비영리법인의 근로자도 내일채움공제에 가...   \n",
       "\n",
       "     category_name_str  \n",
       "1000                    \n",
       "622          O2O, 이동수단  \n",
       "613                etc  \n",
       "615                etc  \n",
       "616                etc  \n",
       "...                ...  \n",
       "842               헬스케어  \n",
       "735               헬스케어  \n",
       "861               헬스케어  \n",
       "645       헬스케어, 로봇, 개발  \n",
       "360           헬스케어, 직업  \n",
       "\n",
       "[1001 rows x 3 columns]"
      ]
     },
     "execution_count": 46,
     "metadata": {},
     "output_type": "execute_result"
    }
   ],
   "source": [
    "df3.sort_values(by='category_name_str')"
   ]
  },
  {
   "cell_type": "markdown",
   "id": "f396e14e",
   "metadata": {},
   "source": [
    "# "
   ]
  },
  {
   "cell_type": "markdown",
   "id": "9cfc9354",
   "metadata": {},
   "source": [
    "# *find a specific word*"
   ]
  },
  {
   "cell_type": "code",
   "execution_count": 8,
   "id": "5bba60e2",
   "metadata": {},
   "outputs": [],
   "source": [
    "df = df[df.value.str.contains('123')]"
   ]
  },
  {
   "cell_type": "code",
   "execution_count": 9,
   "id": "4a71a19d",
   "metadata": {},
   "outputs": [
    {
     "data": {
      "text/html": [
       "<div>\n",
       "<style scoped>\n",
       "    .dataframe tbody tr th:only-of-type {\n",
       "        vertical-align: middle;\n",
       "    }\n",
       "\n",
       "    .dataframe tbody tr th {\n",
       "        vertical-align: top;\n",
       "    }\n",
       "\n",
       "    .dataframe thead th {\n",
       "        text-align: right;\n",
       "    }\n",
       "</style>\n",
       "<table border=\"1\" class=\"dataframe\">\n",
       "  <thead>\n",
       "    <tr style=\"text-align: right;\">\n",
       "      <th></th>\n",
       "      <th>value</th>\n",
       "    </tr>\n",
       "  </thead>\n",
       "  <tbody>\n",
       "    <tr>\n",
       "      <th>0</th>\n",
       "      <td>123</td>\n",
       "    </tr>\n",
       "    <tr>\n",
       "      <th>1</th>\n",
       "      <td>123</td>\n",
       "    </tr>\n",
       "    <tr>\n",
       "      <th>2</th>\n",
       "      <td>123</td>\n",
       "    </tr>\n",
       "  </tbody>\n",
       "</table>\n",
       "</div>"
      ],
      "text/plain": [
       "  value\n",
       "0   123\n",
       "1   123\n",
       "2   123"
      ]
     },
     "execution_count": 9,
     "metadata": {},
     "output_type": "execute_result"
    }
   ],
   "source": [
    "df.head()"
   ]
  },
  {
   "cell_type": "code",
   "execution_count": null,
   "id": "dce3c974",
   "metadata": {},
   "outputs": [],
   "source": [
    "df = df[df.value.apply(lambda x: '123' in x)]"
   ]
  },
  {
   "cell_type": "markdown",
   "id": "ebb0d36a",
   "metadata": {},
   "source": [
    "# "
   ]
  },
  {
   "cell_type": "markdown",
   "id": "f7e75685",
   "metadata": {},
   "source": [
    "# *generator with batch*"
   ]
  },
  {
   "cell_type": "code",
   "execution_count": 1,
   "id": "2db71a67",
   "metadata": {},
   "outputs": [],
   "source": [
    "def batch(iterable, batch_size=1):\n",
    "    l = len(iterable)\n",
    "    for ndx in range(0, l, batch_size):                # iterable 데이터를 배치 단위로 확인하며,\n",
    "        yield iterable[ndx:min(ndx + batch_size, l)]     # batch 단위 만큼의 데이터를 반환"
   ]
  },
  {
   "cell_type": "code",
   "execution_count": 2,
   "id": "63d71501",
   "metadata": {},
   "outputs": [],
   "source": [
    "iterable_data = [0, 1, 2, 3, 4, 5, 6, 7, 8, 9, 10]    # 데이터 리스트 \n",
    "batch_size = 3                                        # 배치 사이즈"
   ]
  },
  {
   "cell_type": "code",
   "execution_count": 3,
   "id": "3a195138",
   "metadata": {},
   "outputs": [
    {
     "name": "stdout",
     "output_type": "stream",
     "text": [
      "[0, 1, 2]\n",
      "[3, 4, 5]\n",
      "[6, 7, 8]\n",
      "[9, 10]\n"
     ]
    }
   ],
   "source": [
    "# iterable 데이터를 배치 단위로 확인하며, batch 단위 만큼의 데이터를 반환\n",
    "for x in batch(iterable_data, batch_size):\n",
    "  print(x)"
   ]
  }
 ],
 "metadata": {
  "kernelspec": {
   "display_name": "Python 3",
   "language": "python",
   "name": "python3"
  },
  "language_info": {
   "codemirror_mode": {
    "name": "ipython",
    "version": 3
   },
   "file_extension": ".py",
   "mimetype": "text/x-python",
   "name": "python",
   "nbconvert_exporter": "python",
   "pygments_lexer": "ipython3",
   "version": "3.8.10"
  }
 },
 "nbformat": 4,
 "nbformat_minor": 5
}
