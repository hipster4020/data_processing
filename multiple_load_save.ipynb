{
 "cells": [
  {
   "cell_type": "markdown",
   "id": "c4ac3643",
   "metadata": {},
   "source": [
    "# *mysql*"
   ]
  },
  {
   "cell_type": "code",
   "execution_count": 8,
   "id": "37c5e076",
   "metadata": {},
   "outputs": [],
   "source": [
    "from sqlalchemy import create_engine\n",
    "import pandas as pd\n",
    "import pymysql\n",
    "import re"
   ]
  },
  {
   "cell_type": "code",
   "execution_count": 4,
   "id": "3117ae01",
   "metadata": {},
   "outputs": [],
   "source": [
    "def mysql_to_df():\n",
    "    pymysql.install_as_MySQLdb()\n",
    "    engine = create_engine(\"mysql://id:pwd@ip:port/db\")\n",
    "    df = pd.read_sql(\"select distinct name from table where name <> ''\", engine)\n",
    "\n",
    "    return df"
   ]
  },
  {
   "cell_type": "code",
   "execution_count": 5,
   "id": "35e00284",
   "metadata": {},
   "outputs": [],
   "source": [
    "df = mysql_to_df()"
   ]
  },
  {
   "cell_type": "markdown",
   "id": "879ef7f1",
   "metadata": {},
   "source": [
    "# *text load & save*"
   ]
  },
  {
   "cell_type": "markdown",
   "id": "e20c847e",
   "metadata": {},
   "source": [
    "### *load*"
   ]
  },
  {
   "cell_type": "code",
   "execution_count": null,
   "id": "ce0c1ea2",
   "metadata": {},
   "outputs": [],
   "source": [
    "company_name = np.read_csv('sample.txt', names=colnames, sep=\"\\n\",header=None)"
   ]
  },
  {
   "cell_type": "markdown",
   "id": "5e48e7dd",
   "metadata": {},
   "source": [
    "### *save*"
   ]
  },
  {
   "cell_type": "code",
   "execution_count": null,
   "id": "5aa0cae1",
   "metadata": {},
   "outputs": [],
   "source": [
    "with open(\"sample.txt\", \"w\") as f:\n",
    "    for i in company_list:\n",
    "        f.write('\"'+ i + '\",' + \"\\n\")"
   ]
  },
  {
   "cell_type": "markdown",
   "id": "5a5dbfb3",
   "metadata": {},
   "source": [
    "# *excel load & save*"
   ]
  },
  {
   "cell_type": "markdown",
   "id": "0b046605",
   "metadata": {},
   "source": [
    "### *load*"
   ]
  },
  {
   "cell_type": "code",
   "execution_count": 11,
   "id": "ff712370",
   "metadata": {},
   "outputs": [],
   "source": [
    "import pandas as pd"
   ]
  },
  {
   "cell_type": "code",
   "execution_count": 12,
   "id": "e6e3d89b",
   "metadata": {},
   "outputs": [],
   "source": [
    "df = pd.read_excel('sample.xlsx')"
   ]
  },
  {
   "cell_type": "code",
   "execution_count": 13,
   "id": "e652b11a",
   "metadata": {},
   "outputs": [
    {
     "data": {
      "text/html": [
       "<div>\n",
       "<style scoped>\n",
       "    .dataframe tbody tr th:only-of-type {\n",
       "        vertical-align: middle;\n",
       "    }\n",
       "\n",
       "    .dataframe tbody tr th {\n",
       "        vertical-align: top;\n",
       "    }\n",
       "\n",
       "    .dataframe thead th {\n",
       "        text-align: right;\n",
       "    }\n",
       "</style>\n",
       "<table border=\"1\" class=\"dataframe\">\n",
       "  <thead>\n",
       "    <tr style=\"text-align: right;\">\n",
       "      <th></th>\n",
       "      <th>Unnamed: 0</th>\n",
       "      <th>company_name</th>\n",
       "      <th>synonym</th>\n",
       "      <th>fasttext</th>\n",
       "    </tr>\n",
       "  </thead>\n",
       "  <tbody>\n",
       "    <tr>\n",
       "      <th>0</th>\n",
       "      <td>0.0</td>\n",
       "      <td>삼익전자공업</td>\n",
       "      <td>samikdisplay,samik</td>\n",
       "      <td>삼화전자공업,전자공업,삼영전자공업,동양공업</td>\n",
       "    </tr>\n",
       "    <tr>\n",
       "      <th>1</th>\n",
       "      <td>1.0</td>\n",
       "      <td>창용금형</td>\n",
       "      <td>cymold</td>\n",
       "      <td>NaN</td>\n",
       "    </tr>\n",
       "    <tr>\n",
       "      <th>2</th>\n",
       "      <td>2.0</td>\n",
       "      <td>생각을걷다</td>\n",
       "      <td>wimfilm</td>\n",
       "      <td>NaN</td>\n",
       "    </tr>\n",
       "    <tr>\n",
       "      <th>3</th>\n",
       "      <td>3.0</td>\n",
       "      <td>삼호</td>\n",
       "      <td>dl건설</td>\n",
       "      <td>NaN</td>\n",
       "    </tr>\n",
       "    <tr>\n",
       "      <th>4</th>\n",
       "      <td>4.0</td>\n",
       "      <td>고려산업</td>\n",
       "      <td>hafeed</td>\n",
       "      <td>석재산업,환대산업,주도산업,컨벤션산업,화학소재산업,이희덕,유치산업</td>\n",
       "    </tr>\n",
       "  </tbody>\n",
       "</table>\n",
       "</div>"
      ],
      "text/plain": [
       "   Unnamed: 0 company_name             synonym  \\\n",
       "0         0.0       삼익전자공업  samikdisplay,samik   \n",
       "1         1.0         창용금형              cymold   \n",
       "2         2.0        생각을걷다             wimfilm   \n",
       "3         3.0           삼호                dl건설   \n",
       "4         4.0         고려산업              hafeed   \n",
       "\n",
       "                               fasttext  \n",
       "0               삼화전자공업,전자공업,삼영전자공업,동양공업  \n",
       "1                                   NaN  \n",
       "2                                   NaN  \n",
       "3                                   NaN  \n",
       "4  석재산업,환대산업,주도산업,컨벤션산업,화학소재산업,이희덕,유치산업  "
      ]
     },
     "execution_count": 13,
     "metadata": {},
     "output_type": "execute_result"
    }
   ],
   "source": [
    "df.head()"
   ]
  },
  {
   "cell_type": "markdown",
   "id": "60bca208",
   "metadata": {},
   "source": [
    "### *save*"
   ]
  },
  {
   "cell_type": "code",
   "execution_count": null,
   "id": "20148fbc",
   "metadata": {},
   "outputs": [],
   "source": [
    "import openpyxl"
   ]
  },
  {
   "cell_type": "code",
   "execution_count": null,
   "id": "02e4d091",
   "metadata": {},
   "outputs": [],
   "source": [
    "df.to_excel('sample.xlsx')"
   ]
  },
  {
   "cell_type": "code",
   "execution_count": null,
   "id": "f729d922",
   "metadata": {},
   "outputs": [],
   "source": [
    "# sheet save\n",
    "data1 = df[:1000000]\n",
    "data2 = df[1000001:]\n",
    "\n",
    "writer = pd.ExcelWriter('sample.xlsx')\n",
    "data1.to_excel(writer, sheet_name='~1000000', index=False)\n",
    "data2.to_excel(writer, sheet_name='1000001~', index=False)\n",
    "writer.save()"
   ]
  },
  {
   "cell_type": "markdown",
   "id": "f0924041",
   "metadata": {},
   "source": [
    "# *pickle load & save*"
   ]
  },
  {
   "cell_type": "markdown",
   "id": "d72f6e14",
   "metadata": {},
   "source": [
    "### *load*"
   ]
  },
  {
   "cell_type": "code",
   "execution_count": null,
   "id": "63d41bd9",
   "metadata": {},
   "outputs": [],
   "source": [
    "import pickle"
   ]
  },
  {
   "cell_type": "code",
   "execution_count": null,
   "id": "901ae37c",
   "metadata": {},
   "outputs": [],
   "source": [
    "with open('sample.pickle', 'rb') as f:\n",
    "    df = pickle.load(f)"
   ]
  },
  {
   "cell_type": "markdown",
   "id": "58681bba",
   "metadata": {},
   "source": [
    "### *save*"
   ]
  },
  {
   "cell_type": "code",
   "execution_count": null,
   "id": "38e29a04",
   "metadata": {},
   "outputs": [],
   "source": [
    "with open('sample.pickle', 'wb') as f:\n",
    "    pickle.dump(df, f, pickle.HIGHEST_PROTOCOL)"
   ]
  },
  {
   "cell_type": "markdown",
   "id": "4fd33621",
   "metadata": {},
   "source": [
    "# *json load & save*"
   ]
  },
  {
   "cell_type": "code",
   "execution_count": 14,
   "id": "050daaba",
   "metadata": {},
   "outputs": [],
   "source": [
    "import json"
   ]
  },
  {
   "cell_type": "markdown",
   "id": "61a70c15",
   "metadata": {},
   "source": [
    "### *load*"
   ]
  },
  {
   "cell_type": "code",
   "execution_count": 15,
   "id": "5035b442",
   "metadata": {},
   "outputs": [],
   "source": [
    "def load_jsonl(input_path) -> list:\n",
    "    \"\"\"\n",
    "    Read list of objects from a JSON lines file.\n",
    "    \"\"\"\n",
    "    data = []\n",
    "    with open(input_path, 'r', encoding='utf-8') as f:\n",
    "        for line in f:\n",
    "            data.append(json.loads(line.rstrip('\\n|\\r')))\n",
    "    print('Loaded {} records from {}'.format(len(data), input_path))\n",
    "    return data"
   ]
  },
  {
   "cell_type": "markdown",
   "id": "c6a3f394",
   "metadata": {},
   "source": [
    "### *save*"
   ]
  },
  {
   "cell_type": "code",
   "execution_count": 16,
   "id": "a96cacf1",
   "metadata": {},
   "outputs": [],
   "source": [
    "def dump_jsonl(data, output_path, append=False):\n",
    "    \"\"\"\n",
    "    Write list of objects to a JSON lines file.\n",
    "    \"\"\"\n",
    "    mode = 'a+' if append else 'w'\n",
    "    with open(output_path, mode, encoding='utf-8') as f:\n",
    "        for line in data:\n",
    "            json_record = json.dumps(line, ensure_ascii=False)\n",
    "            f.write(json_record + '\\n')\n",
    "    print('Wrote {} records to {}'.format(len(data), output_path))"
   ]
  },
  {
   "cell_type": "code",
   "execution_count": null,
   "id": "2d281822",
   "metadata": {},
   "outputs": [],
   "source": [
    "# example\n",
    "temp_dict = [\n",
    "    {\"content\": row['content'].strip(), \"category\": row['category']}\n",
    "    for _, row in data.iterrows()\n",
    "]\n",
    "temp_dict[0]\n",
    "\n",
    "dump_jsonl(temp_dict, 'sample.json')"
   ]
  }
 ],
 "metadata": {
  "kernelspec": {
   "display_name": "Python 3",
   "language": "python",
   "name": "python3"
  },
  "language_info": {
   "codemirror_mode": {
    "name": "ipython",
    "version": 3
   },
   "file_extension": ".py",
   "mimetype": "text/x-python",
   "name": "python",
   "nbconvert_exporter": "python",
   "pygments_lexer": "ipython3",
   "version": "3.8.10"
  }
 },
 "nbformat": 4,
 "nbformat_minor": 5
}
