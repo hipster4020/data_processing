{
 "cells": [
  {
   "cell_type": "markdown",
   "id": "b9e6236b",
   "metadata": {},
   "source": [
    "# *Mecab 설치*"
   ]
  },
  {
   "cell_type": "markdown",
   "id": "f3c2614e",
   "metadata": {},
   "source": [
    "https://i-am-eden.tistory.com/9"
   ]
  },
  {
   "cell_type": "code",
   "execution_count": 1,
   "id": "41ee2d71",
   "metadata": {},
   "outputs": [],
   "source": [
    "import pandas as pd\n",
    "import time\n",
    "from konlpy.tag import Mecab"
   ]
  },
  {
   "cell_type": "code",
   "execution_count": 2,
   "id": "ecea5ebc",
   "metadata": {},
   "outputs": [],
   "source": [
    "m = Mecab('/usr/local/lib/mecab/dic/mecab-ko-dic')"
   ]
  },
  {
   "cell_type": "code",
   "execution_count": 9,
   "id": "bfd1acf8",
   "metadata": {},
   "outputs": [],
   "source": [
    "def noun_token(name):\n",
    "    noun = m.nouns(name)\n",
    "    result = ','.join(noun)\n",
    "\n",
    "    return result"
   ]
  },
  {
   "cell_type": "code",
   "execution_count": 10,
   "id": "eb28a61a",
   "metadata": {},
   "outputs": [
    {
     "name": "stdout",
     "output_type": "stream",
     "text": [
      "아버지,방\n"
     ]
    }
   ],
   "source": [
    "noun = noun_token('아버지가방에들어가신다.')\n",
    "print(noun)"
   ]
  },
  {
   "cell_type": "code",
   "execution_count": null,
   "id": "5cb36a86",
   "metadata": {},
   "outputs": [],
   "source": []
  }
 ],
 "metadata": {
  "kernelspec": {
   "display_name": "Python 3",
   "language": "python",
   "name": "python3"
  },
  "language_info": {
   "codemirror_mode": {
    "name": "ipython",
    "version": 3
   },
   "file_extension": ".py",
   "mimetype": "text/x-python",
   "name": "python",
   "nbconvert_exporter": "python",
   "pygments_lexer": "ipython3",
   "version": "3.8.10"
  }
 },
 "nbformat": 4,
 "nbformat_minor": 5
}
