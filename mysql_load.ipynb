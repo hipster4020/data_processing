{
 "cells": [
  {
   "cell_type": "markdown",
   "id": "e1cf26a6",
   "metadata": {},
   "source": [
    "# *import*"
   ]
  },
  {
   "cell_type": "code",
   "execution_count": null,
   "id": "ccc39402",
   "metadata": {},
   "outputs": [],
   "source": [
    "from sqlalchemy import create_engine\n",
    "from sqlalchemy.types import Integer, VARCHAR, Indexable\n",
    "\n",
    "import pandas as pd\n",
    "from tqdm import tqdm\n",
    "import re\n",
    "import pymysql"
   ]
  },
  {
   "cell_type": "markdown",
   "id": "bb046e26",
   "metadata": {},
   "source": [
    "# *mysql to dataframe*"
   ]
  },
  {
   "cell_type": "code",
   "execution_count": 3,
   "id": "b12f9ba8",
   "metadata": {},
   "outputs": [],
   "source": [
    "def mysql_to_df():\n",
    "    pymysql.install_as_MySQLdb()\n",
    "    engine = create_engine(\"mysql://id:pwd@ip:port/db\")\n",
    "    \n",
    "    df = pd.read_sql(\"select distinct name from table where name <> ''\", engine)\n",
    "    return df"
   ]
  },
  {
   "cell_type": "code",
   "execution_count": null,
   "id": "407bb174",
   "metadata": {},
   "outputs": [],
   "source": [
    "df = mysql_to_df()\n",
    "print(df.head())"
   ]
  },
  {
   "cell_type": "code",
   "execution_count": null,
   "id": "7fb026f6",
   "metadata": {},
   "outputs": [],
   "source": []
  }
 ],
 "metadata": {
  "kernelspec": {
   "display_name": "Python 3",
   "language": "python",
   "name": "python3"
  },
  "language_info": {
   "codemirror_mode": {
    "name": "ipython",
    "version": 3
   },
   "file_extension": ".py",
   "mimetype": "text/x-python",
   "name": "python",
   "nbconvert_exporter": "python",
   "pygments_lexer": "ipython3",
   "version": "3.8.10"
  }
 },
 "nbformat": 4,
 "nbformat_minor": 5
}
