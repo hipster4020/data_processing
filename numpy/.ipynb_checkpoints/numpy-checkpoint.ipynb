{
 "cells": [
  {
   "cell_type": "markdown",
   "id": "83b47cdb",
   "metadata": {},
   "source": [
    "# *Numpy*"
   ]
  },
  {
   "cell_type": "markdown",
   "id": "0d432a9e",
   "metadata": {},
   "source": [
    "#### *Numpy(Numerical Python의 준말)*\n",
    "##### *다차원 배열 지원*\n",
    "##### *vector 개념 지원*"
   ]
  },
  {
   "cell_type": "markdown",
   "id": "514b30d4",
   "metadata": {},
   "source": [
    "#### "
   ]
  },
  {
   "cell_type": "markdown",
   "id": "3f86d30d",
   "metadata": {},
   "source": [
    "### 👉🏻 *array 배열 생성*"
   ]
  },
  {
   "cell_type": "code",
   "execution_count": 1,
   "id": "f4db4e5a",
   "metadata": {},
   "outputs": [],
   "source": [
    "import numpy as np"
   ]
  },
  {
   "cell_type": "code",
   "execution_count": 10,
   "id": "c01dadad",
   "metadata": {},
   "outputs": [
    {
     "name": "stdout",
     "output_type": "stream",
     "text": [
      "1차원 array\n",
      "x.dtype :  float32\n",
      "x.shape :  (3,)\n",
      "x :  [1. 2. 3.]\n",
      "차원 수 :  1\n"
     ]
    }
   ],
   "source": [
    "x = np.array([1, 2, 3], dtype='f')\n",
    "\n",
    "print(\"1차원 array\")\n",
    "print(\"x.dtype : \", x.dtype)\n",
    "print(\"x.shape : \", x.shape)\n",
    "print(\"x : \", x)\n",
    "print(\"차원 수 : \", x.ndim)"
   ]
  },
  {
   "cell_type": "code",
   "execution_count": 13,
   "id": "06068e6f",
   "metadata": {},
   "outputs": [
    {
     "name": "stdout",
     "output_type": "stream",
     "text": [
      "2차원 array\n",
      "x.dtype :  int64\n",
      "x.shape :  (2, 4)\n",
      "x :  [[1 2 3 4]\n",
      " [5 6 7 8]]\n",
      "차원 수 :  2\n"
     ]
    }
   ],
   "source": [
    "x = np.array([[1, 2, 3, 4], [5, 6, 7, 8]])\n",
    "\n",
    "print(\"2차원 array\")\n",
    "print(\"x.dtype : \", x.dtype)\n",
    "print(\"x.shape : \", x.shape)\n",
    "print(\"x : \", x)\n",
    "print(\"차원 수 : \", x.ndim)"
   ]
  },
  {
   "cell_type": "markdown",
   "id": "728a1986",
   "metadata": {},
   "source": [
    "### 👉🏻 *shape 변경*"
   ]
  },
  {
   "cell_type": "code",
   "execution_count": 15,
   "id": "2985d4d4",
   "metadata": {},
   "outputs": [
    {
     "name": "stdout",
     "output_type": "stream",
     "text": [
      "[[1 2]\n",
      " [3 4]\n",
      " [5 6]\n",
      " [7 8]]\n"
     ]
    }
   ],
   "source": [
    "x = np.array([[1, 2, 3, 4], [5, 6, 7, 8]])\n",
    "\n",
    "x.shape=(4,2)\n",
    "print(x)"
   ]
  },
  {
   "cell_type": "markdown",
   "id": "63123c77",
   "metadata": {},
   "source": [
    "### 👉🏻 *arange 배열 생성*"
   ]
  },
  {
   "cell_type": "code",
   "execution_count": 20,
   "id": "8cc3c2de",
   "metadata": {},
   "outputs": [
    {
     "name": "stdout",
     "output_type": "stream",
     "text": [
      "[10 12 14 16 18]\n",
      "[0 1 2 3 4 5 6 7 8 9]\n",
      "[2 4 6]\n"
     ]
    }
   ],
   "source": [
    "# 10~20까지 2step 만큼 array\n",
    "x = np.arange(10, 20, 2)\n",
    "print(x)\n",
    "\n",
    "# 0~10까지 1step 만큼 array\n",
    "x = np.arange(10)\n",
    "print(x)\n",
    "x = x[2:7:2]\n",
    "print(x)"
   ]
  },
  {
   "cell_type": "markdown",
   "id": "7771a6c3",
   "metadata": {},
   "source": [
    "### 👉🏻 *인덱싱, 슬라이싱*"
   ]
  },
  {
   "cell_type": "code",
   "execution_count": 21,
   "id": "04215c81",
   "metadata": {},
   "outputs": [
    {
     "name": "stdout",
     "output_type": "stream",
     "text": [
      "[[1 2 3]\n",
      " [4 5 6]\n",
      " [7 8 9]] (3, 3)\n"
     ]
    }
   ],
   "source": [
    "a = np.array([[1, 2, 3], [4, 5, 6], [7, 8, 9]])\n",
    "print(a, a.shape)"
   ]
  },
  {
   "cell_type": "code",
   "execution_count": 22,
   "id": "15094f7f",
   "metadata": {},
   "outputs": [
    {
     "data": {
      "text/plain": [
       "array([[4, 5, 6],\n",
       "       [7, 8, 9]])"
      ]
     },
     "execution_count": 22,
     "metadata": {},
     "output_type": "execute_result"
    }
   ],
   "source": [
    "a[1:]"
   ]
  },
  {
   "cell_type": "code",
   "execution_count": 23,
   "id": "72227174",
   "metadata": {},
   "outputs": [
    {
     "data": {
      "text/plain": [
       "array([[5, 6],\n",
       "       [8, 9]])"
      ]
     },
     "execution_count": 23,
     "metadata": {},
     "output_type": "execute_result"
    }
   ],
   "source": [
    "a[1:,1:]"
   ]
  },
  {
   "cell_type": "code",
   "execution_count": 27,
   "id": "a035602d",
   "metadata": {},
   "outputs": [
    {
     "data": {
      "text/plain": [
       "6"
      ]
     },
     "execution_count": 27,
     "metadata": {},
     "output_type": "execute_result"
    }
   ],
   "source": [
    "# 인덱싱\n",
    "a[1, 2]"
   ]
  },
  {
   "cell_type": "markdown",
   "id": "c31e8cb8",
   "metadata": {},
   "source": [
    "### 👉🏻 *비교 연산자 인덱싱*"
   ]
  },
  {
   "cell_type": "code",
   "execution_count": 29,
   "id": "6cd3ec5a",
   "metadata": {},
   "outputs": [
    {
     "name": "stdout",
     "output_type": "stream",
     "text": [
      "[[ 0  1  2]\n",
      " [ 3  4  5]\n",
      " [ 6  7  8]\n",
      " [ 9 10 11]]\n"
     ]
    }
   ],
   "source": [
    "x = np.array([[0, 1, 2], [3, 4, 5], [6, 7, 8], [9, 10, 11]])\n",
    "print(x)"
   ]
  },
  {
   "cell_type": "code",
   "execution_count": 32,
   "id": "580ed551",
   "metadata": {},
   "outputs": [
    {
     "name": "stdout",
     "output_type": "stream",
     "text": [
      "[[False False False]\n",
      " [False False False]\n",
      " [ True  True  True]\n",
      " [ True  True  True]]\n",
      "[ 6  7  8  9 10 11]\n"
     ]
    }
   ],
   "source": [
    "# 비교 연산자로 배열 값들과 비교 후 true, false 반환\n",
    "print(x>5)\n",
    "\n",
    "# 연산의 true에 해당하는 값만 추출\n",
    "print(x[x>5])"
   ]
  },
  {
   "cell_type": "markdown",
   "id": "b36746b1",
   "metadata": {},
   "source": [
    "### 👉🏻 *NaN check*"
   ]
  },
  {
   "cell_type": "code",
   "execution_count": 33,
   "id": "824f8390",
   "metadata": {},
   "outputs": [
    {
     "name": "stdout",
     "output_type": "stream",
     "text": [
      "[nan  1.  2. nan  3.  4.  5.]\n"
     ]
    }
   ],
   "source": [
    "a = np.array([np.nan, 1, 2, np.nan, 3, 4, 5])\n",
    "print(a)"
   ]
  },
  {
   "cell_type": "code",
   "execution_count": 37,
   "id": "79d311d6",
   "metadata": {},
   "outputs": [
    {
     "name": "stdout",
     "output_type": "stream",
     "text": [
      "[ True False False  True False False False]\n",
      "[False  True  True False  True  True  True]\n",
      "[1. 2. 3. 4. 5.]\n"
     ]
    }
   ],
   "source": [
    "print(np.isnan(a))\n",
    "print(~np.isnan(a))\n",
    "print(a[~np.isnan(a)])"
   ]
  },
  {
   "cell_type": "code",
   "execution_count": null,
   "id": "fdf20c08",
   "metadata": {},
   "outputs": [],
   "source": []
  }
 ],
 "metadata": {
  "kernelspec": {
   "display_name": "Python 3",
   "language": "python",
   "name": "python3"
  },
  "language_info": {
   "codemirror_mode": {
    "name": "ipython",
    "version": 3
   },
   "file_extension": ".py",
   "mimetype": "text/x-python",
   "name": "python",
   "nbconvert_exporter": "python",
   "pygments_lexer": "ipython3",
   "version": "3.8.10"
  }
 },
 "nbformat": 4,
 "nbformat_minor": 5
}
